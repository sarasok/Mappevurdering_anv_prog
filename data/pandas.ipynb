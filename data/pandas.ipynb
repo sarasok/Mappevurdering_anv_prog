{
 "cells": [
  {
   "cell_type": "code",
   "execution_count": 3,
   "metadata": {},
   "outputs": [
    {
     "name": "stdout",
     "output_type": "stream",
     "text": [
      "Feil ved henting av data: 400\n"
     ]
    }
   ],
   "source": [
    "import requests\n",
    "import pandas as pd\n",
    "\n",
    "# Sett inn din API-nøkkel her\n",
    "API_KEY = \"4df1bbca7b65e146aa75166acfbb019d\"\n",
    "\n",
    "# Endepunkt for GLOBE værdata\n",
    "API_URL = 'https://api.openweathermap.org/data/2.5/weather'\n",
    "\n",
    "\n",
    "# Hent data fra API\n",
    "response = requests.get(API_URL, headers={\"x-api-key\": API_KEY})\n",
    "\n",
    "# Sjekk om forespørselen var vellykket\n",
    "if response.status_code == 200:\n",
    "    data = response.json()\n",
    "    \n",
    "    # Ekstraher relevante data\n",
    "    målinger = []\n",
    "    for entry in data.get(\"results\", []):\n",
    "        målinger.append({\n",
    "            \"Dato\": entry.get(\"date\", \"Ukjent\"),\n",
    "            \"Temperatur (C)\": entry.get(\"temperature\", \"Ikke tilgjengelig\"),\n",
    "            \"Luftfuktighet (%)\": entry.get(\"humidity\", \"Ikke tilgjengelig\"),\n",
    "            \"Trykk (hPa)\": entry.get(\"pressure\", \"Ikke tilgjengelig\"),\n",
    "            \"Sted\": entry.get(\"siteName\", \"Ukjent\"),\n",
    "        })\n",
    "\n",
    "    # Konverter til pandas DataFrame\n",
    "    df = pd.DataFrame(målinger)\n",
    "\n",
    "    # Lagre til Excel\n",
    "    filnavn = \"værdata_globe.xlsx\"\n",
    "    df.to_excel(filnavn, index=False)\n",
    "\n",
    "    print(f\"Værdata lagret i {filnavn}\")\n",
    "\n",
    "else:\n",
    "    print(f\"Feil ved henting av data: {response.status_code}\")\n"
   ]
  }
 ],
 "metadata": {
  "kernelspec": {
   "display_name": "Python 3",
   "language": "python",
   "name": "python3"
  },
  "language_info": {
   "codemirror_mode": {
    "name": "ipython",
    "version": 3
   },
   "file_extension": ".py",
   "mimetype": "text/x-python",
   "name": "python",
   "nbconvert_exporter": "python",
   "pygments_lexer": "ipython3",
   "version": "3.13.1"
  }
 },
 "nbformat": 4,
 "nbformat_minor": 2
}
