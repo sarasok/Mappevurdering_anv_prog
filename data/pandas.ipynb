{
 "cells": [
  {
   "cell_type": "code",
   "execution_count": null,
   "metadata": {},
   "outputs": [
    {
     "name": "stdout",
     "output_type": "stream",
     "text": [
      "✅ Værdata lagret i værdata_oslo.csv\n"
     ]
    }
   ],
   "source": [
    "import requests\n",
    "import pandas as pd\n",
    "\n",
    "# API-opplysninger\n",
    "API_KEY = \"4df1bbca7b65e146aa75166acfbb019d\"\n",
    "API_URL = \"https://api.openweathermap.org/data/2.5/weather\"\n",
    "\n",
    "# Byen du vil hente data for\n",
    "by = \"Oslo\"\n",
    "\n",
    "# Send API-forespørsel\n",
    "params = {\n",
    "    \"q\": by,\n",
    "    \"appid\": API_KEY,\n",
    "    \"units\": \"metric\"  # Gjør temperaturdata leselig (Celsius)\n",
    "}\n",
    "\n",
    "response = requests.get(API_URL, params=params)\n",
    "\n",
    "# Sjekk om forespørselen var vellykket\n",
    "if response.status_code == 200:\n",
    "    data = response.json()\n",
    "\n",
    "    # Trekker ut nødvendige data\n",
    "    værdata = [{\n",
    "        \"By\": data[\"name\"],\n",
    "        \"Vær\": data[\"weather\"][0][\"description\"],\n",
    "        \"Temperatur (°C)\": data[\"main\"][\"temp\"],\n",
    "        \"Føles som (°C)\": data[\"main\"][\"feels_like\"],\n",
    "        \"Min Temp (°C)\": data[\"main\"][\"temp_min\"],\n",
    "        \"Max Temp (°C)\": data[\"main\"][\"temp_max\"],\n",
    "        \"Trykk (hPa)\": data[\"main\"][\"pressure\"],\n",
    "        \"Luftfuktighet (%)\": data[\"main\"][\"humidity\"],\n",
    "        \"Vindhastighet (m/s)\": data[\"wind\"][\"speed\"],\n",
    "        \"Vindretning (°)\": data[\"wind\"][\"deg\"],\n",
    "        \"Soloppgang\": data[\"sys\"][\"sunrise\"],\n",
    "        \"Solnedgang\": data[\"sys\"][\"sunset\"]\n",
    "    }]\n",
    "\n",
    "    # Konverter til Pandas DataFrame\n",
    "    df = pd.DataFrame(værdata)\n",
    "\n",
    "    # Lagre som CSV-fil\n",
    "    filnavn = \"værdata_oslo.csv\"\n",
    "    df.to_csv(filnavn, index=False, encoding=\"utf-8\")\n",
    "\n",
    "    print(f\"Værdata lagret i {filnavn}\")\n",
    "\n",
    "else:\n",
    "    print(f\"Feil ved henting av data: {response.status_code} - {response.text}\")\n"
   ]
  }
 ],
 "metadata": {
  "kernelspec": {
   "display_name": "base",
   "language": "python",
   "name": "python3"
  },
  "language_info": {
   "codemirror_mode": {
    "name": "ipython",
    "version": 3
   },
   "file_extension": ".py",
   "mimetype": "text/x-python",
   "name": "python",
   "nbconvert_exporter": "python",
   "pygments_lexer": "ipython3",
   "version": "3.8.8"
  }
 },
 "nbformat": 4,
 "nbformat_minor": 2
}
