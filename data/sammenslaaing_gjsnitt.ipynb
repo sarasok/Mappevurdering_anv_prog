{
 "cells": [
  {
   "cell_type": "code",
   "execution_count": 1,
   "metadata": {},
   "outputs": [
    {
     "name": "stdout",
     "output_type": "stream",
     "text": [
      "         Dato  Temperatur (°C) daglig snitt  Lufttrykk (hPa)  Nedbør (mm)\n",
      "0  2024-07-01                     10.393750           1003.0          8.0\n",
      "1  2024-07-02                     10.177778           1002.9          3.6\n",
      "2  2024-07-03                     11.973611           1000.5          2.0\n",
      "3  2024-07-04                     15.785417            993.2          0.1\n",
      "4  2024-07-05                     12.113889            991.8          7.7\n"
     ]
    }
   ],
   "source": [
    "import pandas as pd\n",
    "\n",
    "# Les inn filene\n",
    "df_gj = pd.read_csv(\"frost_air_temperature_daglig_gjennomsnitt.csv\")\n",
    "df_trykk = pd.read_csv(\"frost_meanair_pressure_at_sea_level_P1D_jul-des_2024.csv\")\n",
    "df_nedbør = pd.read_csv(\"frost_sumprecipitation_amount_P1D_jul-des_2024.csv\")\n",
    "\n",
    "# Slå sammen alle datasettene på \"Dato\"\n",
    "samlet = df_gj \\\n",
    "    .merge(df_trykk, on=\"Dato\", how=\"left\") \\\n",
    "    .merge(df_nedbør, on=\"Dato\", how=\"left\")\n",
    "\n",
    "# Rydd opp i kolonnenavn hvis nødvendig\n",
    "samlet.rename(columns={\n",
    "    \"Temperatur (°C)\": \"Temperatur (°C) daglig snitt\"\n",
    "}, inplace=True)\n",
    "\n",
    "# Lagre til fil\n",
    "samlet.to_csv(\"Sammenslaaing_gjsnitt.csv\", index=False)\n",
    "\n",
    "# Forhåndsvisning\n",
    "print(samlet.head())\n"
   ]
  }
 ],
 "metadata": {
  "kernelspec": {
   "display_name": "Python 3",
   "language": "python",
   "name": "python3"
  },
  "language_info": {
   "codemirror_mode": {
    "name": "ipython",
    "version": 3
   },
   "file_extension": ".py",
   "mimetype": "text/x-python",
   "name": "python",
   "nbconvert_exporter": "python",
   "pygments_lexer": "ipython3",
   "version": "3.13.1"
  }
 },
 "nbformat": 4,
 "nbformat_minor": 2
}
