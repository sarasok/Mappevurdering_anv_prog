{
 "cells": [
  {
   "cell_type": "markdown",
   "metadata": {},
   "source": [
    "Samler data for temperatur, lufttrykk og nedbør i en csv fil:"
   ]
  },
  {
   "cell_type": "code",
   "execution_count": 13,
   "metadata": {},
   "outputs": [
    {
     "name": "stdout",
     "output_type": "stream",
     "text": [
      "         Dato  Temperatur (°C) daglig snitt  Lufttrykk (hPa)  Nedbør (mm)\n",
      "0  2024-07-01                     10.393750           1003.0          8.0\n",
      "1  2024-07-02                     10.177778           1002.9          3.6\n",
      "2  2024-07-03                     11.973611           1000.5          2.0\n",
      "3  2024-07-04                     15.785417            993.2          0.1\n",
      "4  2024-07-05                     12.113889            991.8          7.7\n"
     ]
    }
   ],
   "source": [
    "import pandas as pd\n",
    "\n",
    "# Leser inn de 3 filene for vær verdier\n",
    "df_gj = pd.read_csv(\"frost_air_temperature_daglig_gjennomsnitt.csv\")\n",
    "df_trykk = pd.read_csv(\"frost_meanair_pressure_at_sea_level_P1D_jul-des_2024.csv\")\n",
    "df_nedbør = pd.read_csv(\"frost_sumprecipitation_amount_P1D_jul-des_2024.csv\")\n",
    "\n",
    "# Slår sammen filene til en fil, basert på dato\n",
    "samlet = df_gj \\\n",
    "    .merge(df_trykk, on=\"Dato\", how=\"left\") \\\n",
    "    .merge(df_nedbør, on=\"Dato\", how=\"left\")\n",
    "\n",
    "samlet.rename(columns={\n",
    "    \"Temperatur (°C)\": \"Temperatur (°C) daglig snitt\"\n",
    "}, inplace=True)\n",
    "\n",
    "# Oppretter ny fil for samlet verdier\n",
    "samlet.to_csv(\"Sammenslaaing_gjsnitt.csv\", index=False)\n",
    "\n",
    "print(samlet.head())\n"
   ]
  },
  {
   "cell_type": "markdown",
   "metadata": {},
   "source": [
    "Identifisere og håndtere manglende verdier i datasettet:"
   ]
  },
  {
   "cell_type": "code",
   "execution_count": 5,
   "metadata": {},
   "outputs": [
    {
     "name": "stdout",
     "output_type": "stream",
     "text": [
      "<class 'pandas.core.frame.DataFrame'>\n",
      "Int64Index: 183 entries, 0 to 182\n",
      "Data columns (total 4 columns):\n",
      " #   Column                        Non-Null Count  Dtype  \n",
      "---  ------                        --------------  -----  \n",
      " 0   Dato                          183 non-null    object \n",
      " 1   Temperatur (°C) daglig snitt  183 non-null    float64\n",
      " 2   Lufttrykk (hPa)               183 non-null    float64\n",
      " 3   Nedbør (mm)                   183 non-null    float64\n",
      "dtypes: float64(3), object(1)\n",
      "memory usage: 7.1+ KB\n"
     ]
    }
   ],
   "source": [
    "samlet.info()\n"
   ]
  },
  {
   "cell_type": "code",
   "execution_count": 6,
   "metadata": {},
   "outputs": [
    {
     "name": "stdout",
     "output_type": "stream",
     "text": [
      "Dato                            0\n",
      "Temperatur (°C) daglig snitt    0\n",
      "Lufttrykk (hPa)                 0\n",
      "Nedbør (mm)                     0\n",
      "dtype: int64\n"
     ]
    }
   ],
   "source": [
    "print(samlet.isna().sum())"
   ]
  },
  {
   "cell_type": "markdown",
   "metadata": {},
   "source": [
    "Kode for å lokalisere \"NaN\" verdier:"
   ]
  },
  {
   "cell_type": "code",
   "execution_count": 1,
   "metadata": {},
   "outputs": [
    {
     "data": {
      "text/html": [
       "<div>\n",
       "<style scoped>\n",
       "    .dataframe tbody tr th:only-of-type {\n",
       "        vertical-align: middle;\n",
       "    }\n",
       "\n",
       "    .dataframe tbody tr th {\n",
       "        vertical-align: top;\n",
       "    }\n",
       "\n",
       "    .dataframe thead th {\n",
       "        text-align: right;\n",
       "    }\n",
       "</style>\n",
       "<table border=\"1\" class=\"dataframe\">\n",
       "  <thead>\n",
       "    <tr style=\"text-align: right;\">\n",
       "      <th></th>\n",
       "      <th>Dato</th>\n",
       "      <th>Temperatur (°C) daglig snitt</th>\n",
       "      <th>Lufttrykk (hPa)</th>\n",
       "      <th>Nedbør (mm)</th>\n",
       "    </tr>\n",
       "  </thead>\n",
       "  <tbody>\n",
       "    <tr>\n",
       "      <th>5</th>\n",
       "      <td>2024-07-06</td>\n",
       "      <td>12.230556</td>\n",
       "      <td>NaN</td>\n",
       "      <td>3.2</td>\n",
       "    </tr>\n",
       "    <tr>\n",
       "      <th>33</th>\n",
       "      <td>2024-08-03</td>\n",
       "      <td>NaN</td>\n",
       "      <td>1006.8</td>\n",
       "      <td>0.0</td>\n",
       "    </tr>\n",
       "  </tbody>\n",
       "</table>\n",
       "</div>"
      ],
      "text/plain": [
       "          Dato  Temperatur (°C) daglig snitt  Lufttrykk (hPa)  Nedbør (mm)\n",
       "5   2024-07-06                     12.230556              NaN          3.2\n",
       "33  2024-08-03                           NaN           1006.8          0.0"
      ]
     },
     "execution_count": 1,
     "metadata": {},
     "output_type": "execute_result"
    }
   ],
   "source": [
    "import pandas as pd\n",
    "\n",
    "df_sammenslaaing = pd.read_csv(\"Sammenslaaing_gjsnitt.csv\")\n",
    "\n",
    "df_sammenslaaing.loc[df_sammenslaaing.isnull().any(axis=1)]\n"
   ]
  },
  {
   "cell_type": "markdown",
   "metadata": {},
   "source": [
    "Lager ny csv for oppdaterte (riktige) verdier:"
   ]
  },
  {
   "cell_type": "code",
   "execution_count": 2,
   "metadata": {},
   "outputs": [],
   "source": [
    "df_sammenslaaing_UtenFeil = df_sammenslaaing.copy()"
   ]
  },
  {
   "cell_type": "markdown",
   "metadata": {},
   "source": [
    "Kode for å rette opp i eventuelle negative nedbør og/eller lufttrykk-verdier:"
   ]
  },
  {
   "cell_type": "code",
   "execution_count": 8,
   "metadata": {},
   "outputs": [],
   "source": [
    "df_sammenslaaing_UtenFeil['Nedbør (mm)'] = [abs(x) for x in df_sammenslaaing_UtenFeil['Nedbør (mm)']]\n",
    "df_sammenslaaing_UtenFeil.to_csv(\"Sammenslaaing_uten_feil.csv\")\n",
    "\n",
    "df_sammenslaaing_UtenFeil['Lufttrykk (hPa)'] = [abs(x) for x in df_sammenslaaing_UtenFeil['Lufttrykk (hPa)']]\n",
    "df_sammenslaaing_UtenFeil.to_csv(\"Sammenslaaing_uten_feil.csv\")"
   ]
  },
  {
   "cell_type": "markdown",
   "metadata": {},
   "source": [
    "Gjør at datoene blir i datetime-format så ikke det er noen skrivefeil i datoene henta:"
   ]
  },
  {
   "cell_type": "code",
   "execution_count": 24,
   "metadata": {},
   "outputs": [
    {
     "name": "stdout",
     "output_type": "stream",
     "text": [
      "        Dato  Temperatur (°C) daglig snitt  Lufttrykk (hPa)  Nedbør (mm)\n",
      "0 2024-07-01                     10.393750           1003.0          8.0\n",
      "1 2024-07-02                     10.177778           1002.9          3.6\n",
      "2 2024-07-03                     11.973611           1000.5          2.0\n",
      "3 2024-07-04                     15.785417            993.2          0.1\n",
      "4 2024-07-05                     12.113889            991.8          7.7\n"
     ]
    }
   ],
   "source": [
    "# Gjør at 'Dato' er i datetime-format\n",
    "df_sammenslaaing_UtenFeil['Dato'] = pd.to_datetime(df_sammenslaaing_UtenFeil['Dato'])\n",
    "\n",
    "# Start fra første dato og generer resten\n",
    "start_dato = df_sammenslaaing_UtenFeil.loc[0, 'Dato']\n",
    "riktige_datoer = [start_dato + pd.Timedelta(days=i) for i in range(len(df_sammenslaaing_UtenFeil))]\n",
    "\n",
    "# Sett inn de riktige datoene\n",
    "df_sammenslaaing_UtenFeil['Dato'] = riktige_datoer\n",
    "\n",
    "\n",
    "print(df_sammenslaaing_UtenFeil.head())"
   ]
  },
  {
   "cell_type": "markdown",
   "metadata": {},
   "source": [
    "Kode for å rette opp i ussansynlige temperaturverdier, samt itterere for å sjekke om en temperatur ikke gir verdier(NaN). Bytter ut disse mistenkelige verdiene med ett gjennomsnitt fra dagen før opg dagen etter."
   ]
  },
  {
   "cell_type": "code",
   "execution_count": null,
   "metadata": {},
   "outputs": [],
   "source": [
    "import pandas as pd\n",
    "\n",
    "# Les inn CSV-filen\n",
    "df = pd.read_csv(\"Sammenslaaing_gjsnitt.csv\")\n",
    "\n",
    "# Gå gjennom temperaturkolonnen med indekser\n",
    "for i in range(1, len(df) - 1):  \n",
    "    temp = df.loc[i, \"Temperatur (°C) daglig snitt\"]\n",
    "\n",
    "    # Hvis verdien er mistenkelig eller tom\n",
    "    if pd.isna(temp) or temp <= -50 or temp >= 50:\n",
    "\n",
    "        # Gjennomsnitt av dagen før og dagen etter\n",
    "        temp_forrige = df.loc[i - 1, \"Temperatur (°C) daglig snitt\"]\n",
    "        temp_etter = df.loc[i + 1, \"Temperatur (°C) daglig snitt\"]\n",
    "        gjennomsnitt = (temp_forrige + temp_etter) / 2\n",
    "\n",
    "        # Erstatt verdien\n",
    "        df.loc[i, \"Temperatur (°C) daglig snitt\"] = gjennomsnitt\n",
    "\n",
    "# Skriv til filen uten feil\n",
    "df.to_csv(\"Sammenslaaing_uten_feil.csv\", index=False)"
   ]
  },
  {
   "cell_type": "markdown",
   "metadata": {},
   "source": [
    "Kode for å teste om lufttrykk-verdien er tom:"
   ]
  },
  {
   "cell_type": "code",
   "execution_count": null,
   "metadata": {},
   "outputs": [],
   "source": [
    "import pandas as pd\n",
    "\n",
    "# Les inn CSV-filen\n",
    "df = pd.read_csv(\"Sammenslaaing_gjsnitt.csv\")\n",
    "\n",
    "# Gå gjennom temperaturkolonnen med indekser\n",
    "for i in range(1, len(df) - 1):  \n",
    "    trykk = df.loc[i, \"Lufttrykk (hPa)\"]\n",
    "\n",
    "    # Hvis verdien er mistenkelig eller tom\n",
    "    if pd.isna(trykk):\n",
    "\n",
    "        # Gjennomsnitt av dagen før og dagen etter\n",
    "        trykk_forrige = df.loc[i - 1, \"Lufttrykk (hPa)\"]\n",
    "        trykk_etter = df.loc[i + 1, \"Lufttrykk (hPa)\"]\n",
    "        gjennomsnitt = (trykk_forrige + trykk_etter) / 2\n",
    "\n",
    "        # Erstatt verdien\n",
    "        df.loc[i, \"Lufttrykk (hPa)\"] = gjennomsnitt\n",
    "\n",
    "# Skriv til filen uten feil\n",
    "df.to_csv(\"Sammenslaaing_uten_feil.csv\", index=False)"
   ]
  }
 ],
 "metadata": {
  "kernelspec": {
   "display_name": "Python 3",
   "language": "python",
   "name": "python3"
  },
  "language_info": {
   "codemirror_mode": {
    "name": "ipython",
    "version": 3
   },
   "file_extension": ".py",
   "mimetype": "text/x-python",
   "name": "python",
   "nbconvert_exporter": "python",
   "pygments_lexer": "ipython3",
   "version": "3.12.9"
  }
 },
 "nbformat": 4,
 "nbformat_minor": 2
}
