{
 "cells": [
  {
   "cell_type": "code",
   "execution_count": 1,
   "metadata": {},
   "outputs": [
    {
     "name": "stdout",
     "output_type": "stream",
     "text": [
      "Henter data for Temperatur (°C)...\n",
      "Lagret til: frost_air_temperature_jul-des_2024.csv\n",
      "Henter data for Lufttrykk (hPa)...\n",
      "Lagret til: frost_meanair_pressure_at_sea_level_P1D_jul-des_2024.csv\n",
      "Henter data for Nedbør (mm)...\n",
      "Lagret til: frost_sumprecipitation_amount_P1D_jul-des_2024.csv\n"
     ]
    }
   ],
   "source": [
    "import requests\n",
    "import pandas as pd\n",
    "import os\n",
    "\n",
    "# API-nøkkel og stasjon\n",
    "CLIENT_ID = \"2a430097-ac9b-44e4-995e-a02afb9795b2\"\n",
    "SOURCE = \"SN68860\"\n",
    "\n",
    "# Dato-intervall\n",
    "start_date = \"2024-07-01\"\n",
    "end_date = \"2024-12-31\"\n",
    "reference_time = f\"{start_date}/{end_date}\"\n",
    "\n",
    "# Frost API-url\n",
    "BASE_URL = \"https://frost.met.no/observations/v0.jsonld\"\n",
    "\n",
    "# Elementer som skal hentes og deres etiketter\n",
    "elements = {\n",
    "    \"air_temperature\": \"Temperatur (°C)\",\n",
    "    \"mean(air_pressure_at_sea_level P1D)\": \"Lufttrykk (hPa)\",\n",
    "    \"sum(precipitation_amount P1D)\": \"Nedbør (mm)\"\n",
    "}\n",
    "\n",
    "# Brukerinput for å bestemme om man skal hente nye data\n",
    "force_update = input(\"Vil du hente nye data fra Frost API? (ja/ne): \").strip().lower()\n",
    "\n",
    "# Funksjon for å hente og lagre data\n",
    "def fetch_data(element_id, label):\n",
    "    filename = f\"frost_{element_id.replace('(', '').replace(')', '').replace(' ', '_')}_jul-des_2024.csv\"\n",
    "    \n",
    "    if os.path.exists(filename) and force_update != \"ja\":\n",
    "        print(\"Bruker eksisterende fil:\", filename)\n",
    "        return\n",
    "\n",
    "    print(\"Henter data for\", label + \"...\")\n",
    "    \n",
    "    params = {\n",
    "        \"sources\": SOURCE,\n",
    "        \"elements\": element_id,\n",
    "        \"referencetime\": reference_time\n",
    "    }\n",
    "\n",
    "    response = requests.get(BASE_URL, params=params, auth=(CLIENT_ID, \"\"))\n",
    "    \n",
    "    if response.status_code == 200:\n",
    "        raw_data = response.json()[\"data\"]\n",
    "        rows = []\n",
    "        for entry in raw_data:\n",
    "            date = entry[\"referenceTime\"].split(\"T\")[0]\n",
    "            value = entry[\"observations\"][0][\"value\"]\n",
    "            rows.append((date, value))\n",
    "        \n",
    "        df = pd.DataFrame(rows, columns=[\"Dato\", label])\n",
    "        df.to_csv(filename, index=False, encoding=\"utf-8\")\n",
    "        print(\"Lagret til:\", filename)\n",
    "    \n",
    "    else:\n",
    "        print(f\"Feil ved henting av {element_id}: {response.status_code}\")\n",
    "        print(response.text)\n",
    "\n",
    "# Hent og lagre data for hvert element\n",
    "for element_id, label in elements.items():\n",
    "    fetch_data(element_id, label)\n",
    "    \n"
   ]
  }
 ],
 "metadata": {
  "kernelspec": {
   "display_name": "base",
   "language": "python",
   "name": "python3"
  },
  "language_info": {
   "codemirror_mode": {
    "name": "ipython",
    "version": 3
   },
   "file_extension": ".py",
   "mimetype": "text/x-python",
   "name": "python",
   "nbconvert_exporter": "python",
   "pygments_lexer": "ipython3",
   "version": "3.8.8"
  }
 },
 "nbformat": 4,
 "nbformat_minor": 2
}
