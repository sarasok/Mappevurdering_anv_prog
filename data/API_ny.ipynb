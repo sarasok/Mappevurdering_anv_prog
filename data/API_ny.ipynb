{
 "cells": [
  {
   "cell_type": "code",
   "execution_count": 3,
   "metadata": {},
   "outputs": [
    {
     "name": "stdout",
     "output_type": "stream",
     "text": [
      "Henter data...\n",
      "Lagret til: data/frost_data.csv\n"
     ]
    }
   ],
   "source": [
    "import requests\n",
    "import pandas as pd\n",
    "import os\n",
    "from datetime import datetime, timedelta\n",
    "\n",
    "os.makedirs(\"data\", exist_ok=True)\n",
    "\n",
    "API = \"2a430097-ac9b-44e4-995e-a02afb9795b2\"\n",
    "SOURCE = \"SN68860\"\n",
    "BASE_URL = \"https://frost.met.no/observations/v0.jsonld\"\n",
    "\n",
    "start_date = datetime(2023, 1, 1)\n",
    "end_date = datetime(2024, 12, 31)\n",
    "delta = timedelta(days=30)  # 30-dagers bolker\n",
    "\n",
    "elements = {\n",
    "    \"air_temperature\": \"Temperatur (°C)\",  \n",
    "    \"mean(air_pressure_at_sea_level P1D)\": \"Lufttrykk (hPa)\",  \n",
    "    \"sum(precipitation_amount P1D)\": \"Nedbør (mm)\"\n",
    "}\n",
    "\n",
    "force_update = input(\"Vil du hente nye data fra Frost API? (ja/nei): \").strip().lower()\n",
    "\n",
    "def fetch_data():\n",
    "    filename = os.path.join(\"data\", \"frost_data.csv\")\n",
    "\n",
    "    if os.path.exists(filename) and force_update != \"ja\":\n",
    "        print(\"Bruker eksisterende fil:\", filename)\n",
    "        return\n",
    "\n",
    "    print(\"Henter data...\")\n",
    "\n",
    "    all_data = pd.DataFrame(columns=[\"Dato\"])\n",
    "\n",
    "    current_date = start_date\n",
    "    while current_date <= end_date:\n",
    "        batch_start = current_date.strftime(\"%Y-%m-%d\")\n",
    "        batch_end = (current_date + delta).strftime(\"%Y-%m-%d\")\n",
    "        batch_reference_time = f\"{batch_start}/{batch_end}\"\n",
    "\n",
    "        params = {\n",
    "            \"sources\": SOURCE,\n",
    "            \"elements\": \",\".join(elements.keys()),\n",
    "            \"referencetime\": batch_reference_time\n",
    "        }\n",
    "\n",
    "        response = requests.get(BASE_URL, params=params, auth=(API, \"\"))\n",
    "        \n",
    "        if response.status_code == 200:\n",
    "            raw_data = response.json().get(\"data\", [])\n",
    "            batch_df = pd.DataFrame([\n",
    "                {\"Dato\": entry[\"referenceTime\"].split(\"T\")[0], \n",
    "                 elements[entry[\"observations\"][0][\"elementId\"]]: entry[\"observations\"][0][\"value\"]}\n",
    "                for entry in raw_data\n",
    "            ])\n",
    "\n",
    "            # **Løsning på feilen:** Håndter duplikater ved å bruke `suffixes`\n",
    "            all_data = pd.merge(all_data, batch_df, on=\"Dato\", how=\"outer\", suffixes=(\"\", \"_dupe\"))\n",
    "\n",
    "            # Fjern duplikatkolonner hvis de finnes\n",
    "            for col in elements.values():\n",
    "                if f\"{col}_dupe\" in all_data.columns:\n",
    "                    all_data[col] = all_data[col].combine_first(all_data[f\"{col}_dupe\"])\n",
    "                    all_data.drop(columns=[f\"{col}_dupe\"], inplace=True)\n",
    "\n",
    "        else:\n",
    "            print(f\"Feil ved henting av data ({batch_reference_time}): {response.status_code}\")\n",
    "            print(response.text)\n",
    "\n",
    "        current_date += delta\n",
    "\n",
    "    all_data.to_csv(filename, index=False, encoding=\"utf-8\")\n",
    "    print(\"Lagret til:\", filename)\n",
    "\n",
    "fetch_data()\n",
    "\n",
    "\n",
    "    "
   ]
  },
  {
   "cell_type": "code",
   "execution_count": 5,
   "metadata": {},
   "outputs": [
    {
     "name": "stdout",
     "output_type": "stream",
     "text": [
      "Daglig gjennomsnitt lagret i frost_air_temperature_daglig_gjennomsnitt.csv\n"
     ]
    }
   ],
   "source": [
    "# TEMPFIL 15MIN -> GJENOMSNITT DAG\n",
    "\n",
    "import pandas as pd\n",
    "# Leser inn filen med temperaturmålinger\n",
    "df = pd.read_csv(\"data/frost_data.csv\")\n",
    "\n",
    "# Beregn gjennomsnittstemperatur per dag\n",
    "daglig_gjennomsnitt = df.groupby(\"Dato\")[\"Temperatur (°C)\"].mean().reset_index()\n",
    "\n",
    "# Lagre til ny CSV-fil\n",
    "daglig_gjennomsnitt.to_csv(\"data/frost_air_temperature_daglig_gjennomsnitt.csv\", index=False)\n",
    "\n",
    "\n",
    "print(\"Daglig gjennomsnitt lagret i frost_air_temperature_daglig_gjennomsnitt.csv\")\n"
   ]
  }
 ],
 "metadata": {
  "kernelspec": {
   "display_name": "Python 3",
   "language": "python",
   "name": "python3"
  },
  "language_info": {
   "codemirror_mode": {
    "name": "ipython",
    "version": 3
   },
   "file_extension": ".py",
   "mimetype": "text/x-python",
   "name": "python",
   "nbconvert_exporter": "python",
   "pygments_lexer": "ipython3",
   "version": "3.13.1"
  }
 },
 "nbformat": 4,
 "nbformat_minor": 2
}
