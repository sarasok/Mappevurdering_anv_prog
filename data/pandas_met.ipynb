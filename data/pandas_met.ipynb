{
 "cells": [
  {
   "cell_type": "code",
   "execution_count": 3,
   "metadata": {},
   "outputs": [
    {
     "name": "stderr",
     "output_type": "stream",
     "text": [
      "C:\\Users\\leahs\\AppData\\Local\\Temp\\ipykernel_10720\\504549614.py:16: DeprecationWarning: datetime.datetime.utcnow() is deprecated and scheduled for removal in a future version. Use timezone-aware objects to represent datetimes in UTC: datetime.datetime.now(datetime.UTC).\n",
      "  slutt_dato = datetime.utcnow().date()\n"
     ]
    },
    {
     "name": "stdout",
     "output_type": "stream",
     "text": [
      "Værdata lagret i frost_trondheim_30dager3.csv\n"
     ]
    },
    {
     "name": "stderr",
     "output_type": "stream",
     "text": [
      "C:\\Users\\leahs\\AppData\\Local\\Temp\\ipykernel_10720\\504549614.py:65: FutureWarning: Downcasting object dtype arrays on .fillna, .ffill, .bfill is deprecated and will change in a future version. Call result.infer_objects(copy=False) instead. To opt-in to the future behavior, set `pd.set_option('future.no_silent_downcasting', True)`\n",
      "  df.fillna(0, inplace=True)\n"
     ]
    }
   ],
   "source": [
    "import requests\n",
    "import pandas as pd\n",
    "from datetime import datetime, timedelta\n",
    "\n",
    "# Sett inn din API-nøkkel (Client ID fra Frost API)\n",
    "CLIENT_ID = \"2a430097-ac9b-44e4-995e-a02afb9795b2\"  ## SENDTE ANNEN APIKEY PÅ MESSENGER\n",
    "API_URL = \"https://frost.met.no/observations/v0.jsonld\"\n",
    "\n",
    "# Velg værstasjon i Trondheim (SN68860 = Trondheim - Voll)\n",
    "SOURCE = \"SN68860\"\n",
    "\n",
    "# Hvilke værdata vi ønsker å hente\n",
    "ELEMENTS = \"air_temperature,cloud_area_fraction,air_pressure_at_sea_level,precipitation_amount\"\n",
    "\n",
    "# Tidsperiode (siste 30 dager)\n",
    "slutt_dato = datetime.utcnow().date()\n",
    "start_dato = slutt_dato - timedelta(days=30)\n",
    "tidspunkt = f\"{start_dato}/{slutt_dato}\"\n",
    "\n",
    "# Bygg API-forespørselen\n",
    "params = {\n",
    "    \"sources\": SOURCE,\n",
    "    \"elements\": ELEMENTS,\n",
    "    \"referencetime\": tidspunkt\n",
    "}\n",
    "\n",
    "# Send forespørselen til Frost API\n",
    "response = requests.get(API_URL, params=params, auth=(CLIENT_ID, \"\"))\n",
    "\n",
    "# Sjekk om forespørselen var vellykket\n",
    "if response.status_code == 200:\n",
    "    data = response.json()[\"data\"]\n",
    "    \n",
    "    # Lagring av værdata (med alle parametere)\n",
    "    værdata = {}\n",
    "    for entry in data:\n",
    "        dato = entry[\"referenceTime\"].split(\"T\")[0]  # Hent dato\n",
    "        element = entry[\"observations\"][0][\"elementId\"]  # Hent datatype\n",
    "        verdi = entry[\"observations\"][0][\"value\"]  # Hent målt verdi\n",
    "        \n",
    "        # Opprett en rad for hver dato hvis den ikke eksisterer\n",
    "        if dato not in værdata:\n",
    "            værdata[dato] = {\n",
    "                \"Dato\": dato,\n",
    "                \"Temperatur (°C)\": None,\n",
    "                \"Skydekke (%)\": None,\n",
    "                \"Lufttrykk (hPa)\": None,\n",
    "                \"Nedbør (mm)\": None\n",
    "            }\n",
    "\n",
    "        # Legg til målingene i riktig kolonne\n",
    "        if element == \"air_temperature\":\n",
    "            værdata[dato][\"Temperatur (°C)\"] = verdi\n",
    "        elif element == \"cloud_area_fraction\":\n",
    "            værdata[dato][\"Skydekke (%)\"] = verdi\n",
    "        elif element == \"air_pressure_at_sea_level\":\n",
    "            værdata[dato][\"Lufttrykk (hPa)\"] = verdi\n",
    "        elif element == \"precipitation_amount\":\n",
    "            værdata[dato][\"Nedbør (mm)\"] = verdi\n",
    "\n",
    "    # Konverter til Pandas DataFrame\n",
    "    df = pd.DataFrame(list(værdata.values()))\n",
    "\n",
    "    # Fyll inn eventuelle manglende verdier med \"0\"\n",
    "    df.fillna(0, inplace=True)\n",
    "\n",
    "    # Lagre som CSV-fil\n",
    "    filnavn = \"frost_trondheim_30dager3.csv\"\n",
    "    df.to_csv(filnavn, index=False, encoding=\"utf-8\")\n",
    "\n",
    "    print(f\"Værdata lagret i {filnavn}\")\n",
    "\n",
    "else:\n",
    "    print(f\"Feil ved henting av data: {response.status_code} - {response.text}\")\n"
   ]
  }
 ],
 "metadata": {
  "kernelspec": {
   "display_name": "base",
   "language": "python",
   "name": "python3"
  },
  "language_info": {
   "codemirror_mode": {
    "name": "ipython",
    "version": 3
   },
   "file_extension": ".py",
   "mimetype": "text/x-python",
   "name": "python",
   "nbconvert_exporter": "python",
   "pygments_lexer": "ipython3",
   "version": "3.8.8"
  }
 },
 "nbformat": 4,
 "nbformat_minor": 2
}
