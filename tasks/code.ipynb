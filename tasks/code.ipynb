{
 "cells": [
  {
   "cell_type": "code",
   "execution_count": 9,
   "metadata": {},
   "outputs": [
    {
     "ename": "TypeError",
     "evalue": "unsupported operand type(s) for +=: 'NoneType' and 'str'",
     "output_type": "error",
     "traceback": [
      "\u001b[0;31m---------------------------------------------------------------------------\u001b[0m",
      "\u001b[0;31mTypeError\u001b[0m                                 Traceback (most recent call last)",
      "Cell \u001b[0;32mIn[9], line 17\u001b[0m\n\u001b[1;32m     14\u001b[0m api_key \u001b[38;5;241m=\u001b[39m os\u001b[38;5;241m.\u001b[39mgetenv(\u001b[38;5;124m'\u001b[39m\u001b[38;5;124m4df1bbca7b65e146aa75166acfbb019d\u001b[39m\u001b[38;5;124m'\u001b[39m)\n\u001b[1;32m     15\u001b[0m url \u001b[38;5;241m=\u001b[39m os\u001b[38;5;241m.\u001b[39mgetenv(\u001b[38;5;124m'\u001b[39m\u001b[38;5;124mhttps://api.openweathermap.org/data/2.5/weather?q=\u001b[39m\u001b[38;5;132;01m{by}\u001b[39;00m\u001b[38;5;124m&appid=\u001b[39m\u001b[38;5;132;01m{api_key}\u001b[39;00m\u001b[38;5;124m&units=metric\u001b[39m\u001b[38;5;124m'\u001b[39m)\n\u001b[0;32m---> 17\u001b[0m \u001b[43murl\u001b[49m\u001b[43m \u001b[49m\u001b[38;5;241;43m+\u001b[39;49m\u001b[38;5;241;43m=\u001b[39;49m\u001b[38;5;124;43mf\u001b[39;49m\u001b[38;5;124;43m\"\u001b[39;49m\u001b[38;5;124;43m?q=\u001b[39;49m\u001b[38;5;132;43;01m{\u001b[39;49;00m\u001b[43mby\u001b[49m\u001b[38;5;132;43;01m}\u001b[39;49;00m\u001b[38;5;124;43m&appid=\u001b[39;49m\u001b[38;5;132;43;01m{\u001b[39;49;00m\u001b[43mapi_key\u001b[49m\u001b[38;5;132;43;01m}\u001b[39;49;00m\u001b[38;5;124;43m&units=metric\u001b[39;49m\u001b[38;5;124;43m\"\u001b[39;49m\n\u001b[1;32m     19\u001b[0m res \u001b[38;5;241m=\u001b[39m requests\u001b[38;5;241m.\u001b[39mget(url)\n\u001b[1;32m     20\u001b[0m data \u001b[38;5;241m=\u001b[39m res\u001b[38;5;241m.\u001b[39mjson()\n",
      "\u001b[0;31mTypeError\u001b[0m: unsupported operand type(s) for +=: 'NoneType' and 'str'"
     ]
    }
   ],
   "source": [
    "import requests\n",
    "import os\n",
    "from dotenv import load_dotenv\n",
    "\n",
    "# Load environment variables from .env file\n",
    "load_dotenv()\n",
    "\n",
    "# Access the environment variables\n",
    "api_key = os.getenv('4df1bbca7b65e146aa75166acfbb019d')\n",
    "database_url = os.getenv('https://api.openweathermap.org/data/2.5/weather?q={by}&appid={api_key}&units=metric')\n",
    "\n",
    "by = 'Oslo'\n",
    "\n",
    "api_key = os.getenv('4df1bbca7b65e146aa75166acfbb019d')\n",
    "url = os.getenv('https://api.openweathermap.org/data/2.5/weather?q={by}&appid={api_key}&units=metric')\n",
    "\n",
    "url +=f\"?q={by}&appid={api_key}&units=metric\"\n",
    "\n",
    "res = requests.get(url)\n",
    "data = res.json()\n",
    "\n",
    "wind = data['wind']['speed']\n",
    "humidity = data['main']['humidity']\n",
    "pressure = data['main']['pressure']\n",
    "\n",
    "print('Temperature:',temp,'°C')\n",
    "print('Wind:',wind)\n",
    "print('Pressure: ',pressure)\n",
    "print('Humidity: ',humidity)\n",
    "print('Description:',description)"
   ]
  },
  {
   "cell_type": "code",
   "execution_count": 7,
   "metadata": {},
   "outputs": [
    {
     "ename": "KeyError",
     "evalue": "'main'",
     "output_type": "error",
     "traceback": [
      "\u001b[0;31m---------------------------------------------------------------------------\u001b[0m",
      "\u001b[0;31mKeyError\u001b[0m                                  Traceback (most recent call last)",
      "Cell \u001b[0;32mIn[7], line 23\u001b[0m\n\u001b[1;32m     20\u001b[0m data \u001b[38;5;241m=\u001b[39m res\u001b[38;5;241m.\u001b[39mjson()\n\u001b[1;32m     22\u001b[0m \u001b[38;5;66;03m# Hent værdataene\u001b[39;00m\n\u001b[0;32m---> 23\u001b[0m humidity \u001b[38;5;241m=\u001b[39m \u001b[43mdata\u001b[49m\u001b[43m[\u001b[49m\u001b[38;5;124;43m'\u001b[39;49m\u001b[38;5;124;43mmain\u001b[39;49m\u001b[38;5;124;43m'\u001b[39;49m\u001b[43m]\u001b[49m[\u001b[38;5;124m'\u001b[39m\u001b[38;5;124mhumidity\u001b[39m\u001b[38;5;124m'\u001b[39m]\n\u001b[1;32m     24\u001b[0m pressure \u001b[38;5;241m=\u001b[39m data[\u001b[38;5;124m'\u001b[39m\u001b[38;5;124mmain\u001b[39m\u001b[38;5;124m'\u001b[39m][\u001b[38;5;124m'\u001b[39m\u001b[38;5;124mpressure\u001b[39m\u001b[38;5;124m'\u001b[39m]\n\u001b[1;32m     25\u001b[0m wind \u001b[38;5;241m=\u001b[39m data[\u001b[38;5;124m'\u001b[39m\u001b[38;5;124mwind\u001b[39m\u001b[38;5;124m'\u001b[39m][\u001b[38;5;124m'\u001b[39m\u001b[38;5;124mspeed\u001b[39m\u001b[38;5;124m'\u001b[39m]\n",
      "\u001b[0;31mKeyError\u001b[0m: 'main'"
     ]
    }
   ],
   "source": [
    "import requests\n",
    "import os\n",
    "from dotenv import load_dotenv\n",
    "\n",
    "# Load environment variables from .env file\n",
    "load_dotenv()\n",
    "\n",
    "# Access the environment variables\n",
    "api_key = os.getenv('API_KEY')  # Sørg for at du har riktig nøkkel i .env-filen\n",
    "base_url = 'https://api.openweathermap.org/data/2.5/weather'\n",
    "\n",
    "# Fyll ut byen\n",
    "city = 'Oslo'\n",
    "\n",
    "# Bygg URL-en med API-nøkkelen og byen\n",
    "url = f\"{base_url}?q={city}&appid={api_key}&units=metric\"\n",
    "\n",
    "# Gjør forespørselen\n",
    "res = requests.get(url)\n",
    "data = res.json()\n",
    "\n",
    "# Hent værdataene\n",
    "humidity = data['main']['humidity']\n",
    "pressure = data['main']['pressure']\n",
    "wind = data['wind']['speed']\n",
    "description = data['weather'][0]['description']\n",
    "temp = data['main']['temp']\n",
    "\n",
    "# Skriv ut resultatene\n",
    "print('Temperature:', temp, '°C')\n",
    "print('Wind:', wind)\n",
    "print('Pressure:', pressure)\n",
    "print('Humidity:', humidity)\n",
    "print('Description:', description)\n"
   ]
  },
  {
   "cell_type": "code",
   "execution_count": 10,
   "metadata": {},
   "outputs": [
    {
     "name": "stdout",
     "output_type": "stream",
     "text": [
      "Error: Unable to fetch data. Status code: 401\n"
     ]
    }
   ],
   "source": [
    "import requests\n",
    "import os\n",
    "from dotenv import load_dotenv\n",
    "\n",
    "# Load environment variables from .env file\n",
    "load_dotenv()\n",
    "\n",
    "# Access the environment variables\n",
    "api_key = os.getenv('API_KEY')  # Sørg for at du har riktig nøkkel i .env-filen\n",
    "base_url = 'https://api.openweathermap.org/data/2.5/weather'\n",
    "\n",
    "# Bytt ut med ønsket by\n",
    "city = 'Oslo'\n",
    "\n",
    "# Bygg URL-en med API-nøkkelen og byen\n",
    "url = f\"{base_url}?q={city}&appid={api_key}&units=metric\"\n",
    "\n",
    "# Gjør forespørselen\n",
    "res = requests.get(url)\n",
    "\n",
    "# Sjekk statuskoden for forespørselen\n",
    "if res.status_code == 200:\n",
    "    # Hvis forespørselen er vellykket, få dataene\n",
    "    data = res.json()\n",
    "    \n",
    "    # Skriv ut hele responsen for feilsøking\n",
    "    print(\"API Response:\", data)\n",
    "    \n",
    "    # Sjekk om 'main' finnes i responsen\n",
    "    if 'main' in data:\n",
    "        # Hent værdataene\n",
    "        wind = data['wind']['speed']\n",
    "        humidity = data['main']['humidity']\n",
    "        pressure = data['main']['pressure']\n",
    "\n",
    "\n",
    "        # Skriv ut resultatene\n",
    "        print('Temperature:', temp, '°C')\n",
    "        print('Wind:', wind)\n",
    "        print('Pressure:', pressure)\n",
    "        print('Humidity:', humidity)\n",
    "        print('Description:', description)\n",
    "    else:\n",
    "        print(\"Main data not found in the response\")\n",
    "else:\n",
    "    print(f\"Error: Unable to fetch data. Status code: {res.status_code}\")\n"
   ]
  }
 ],
 "metadata": {
  "kernelspec": {
   "display_name": "Python 3",
   "language": "python",
   "name": "python3"
  },
  "language_info": {
   "codemirror_mode": {
    "name": "ipython",
    "version": 3
   },
   "file_extension": ".py",
   "mimetype": "text/x-python",
   "name": "python",
   "nbconvert_exporter": "python",
   "pygments_lexer": "ipython3",
   "version": "3.13.1"
  }
 },
 "nbformat": 4,
 "nbformat_minor": 2
}
