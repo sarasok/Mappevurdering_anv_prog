{
 "cells": [
  {
   "cell_type": "code",
   "execution_count": 21,
   "metadata": {},
   "outputs": [
    {
     "name": "stdout",
     "output_type": "stream",
     "text": [
      "Temperature: 4.97 °C\n",
      "Wind: 2.24\n",
      "Pressure: 1020\n",
      "Humidity: 87\n",
      "Description: light rain\n"
     ]
    }
   ],
   "source": [
    "import requests\n",
    "import os\n",
    "from dotenv import load_dotenv\n",
    "\n",
    "load_dotenv()\n",
    "\n",
    "# Gir tilgang til data fra APIen\n",
    "api_key = os.getenv('API_KEY')  # Sørg for at du har riktig nøkkel i .env-filen\n",
    "base_url = 'https://api.openweathermap.org/data/2.5/weather'\n",
    "\n",
    "city = 'Trondheim'\n",
    "\n",
    "# Lager URL-en med API-nøkkelen og byen\n",
    "url = f\"{base_url}?q={city}&appid={api_key}&units=metric\"\n",
    "\n",
    "res = requests.get(url)\n",
    "data = res.json()\n",
    "\n",
    "# Henter værdataene\n",
    "humidity = data['main']['humidity']\n",
    "pressure = data['main']['pressure']\n",
    "wind = data['wind']['speed']\n",
    "description = data['weather'][0]['description']\n",
    "temp = data['main']['temp']\n",
    "\n",
    "#Lurt å ta inn klokkeslett?\n",
    "\n",
    "# Skriver ut resultatene\n",
    "print('Temperature:', temp, '°C')\n",
    "print('Wind:', wind)\n",
    "print('Pressure:', pressure)\n",
    "print('Humidity:', humidity)\n",
    "print('Description:', description)\n"
   ]
  }
 ],
 "metadata": {
  "kernelspec": {
   "display_name": "Python 3",
   "language": "python",
   "name": "python3"
  },
  "language_info": {
   "codemirror_mode": {
    "name": "ipython",
    "version": 3
   },
   "file_extension": ".py",
   "mimetype": "text/x-python",
   "name": "python",
   "nbconvert_exporter": "python",
   "pygments_lexer": "ipython3",
   "version": "3.13.1"
  }
 },
 "nbformat": 4,
 "nbformat_minor": 2
}
