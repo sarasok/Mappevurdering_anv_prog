{
 "cells": [
  {
   "cell_type": "code",
   "execution_count": 6,
   "metadata": {},
   "outputs": [
    {
     "name": "stdout",
     "output_type": "stream",
     "text": [
      "         Dato  Temperatur (°C)  Temperatur (°C) daglig snitt  Lufttrykk (hPa)  \\\n",
      "0  2024-07-01             11.1                      10.39375           1003.0   \n",
      "1  2024-07-01             11.0                      10.39375           1003.0   \n",
      "2  2024-07-01             11.0                      10.39375           1003.0   \n",
      "3  2024-07-01             11.0                      10.39375           1003.0   \n",
      "4  2024-07-01             11.0                      10.39375           1003.0   \n",
      "\n",
      "   Nedbør (mm)  \n",
      "0          8.0  \n",
      "1          8.0  \n",
      "2          8.0  \n",
      "3          8.0  \n",
      "4          8.0  \n"
     ]
    }
   ],
   "source": [
    "import pandas as pd\n",
    "\n",
    "# Leser inn filene\n",
    "df_temp = pd.read_csv(\"frost_air_temperature_jul-des_2024.csv\")\n",
    "df_gj = pd.read_csv(\"frost_air_temperature_daglig_gjennomsnitt.csv\")\n",
    "df_trykk = pd.read_csv(\"frost_meanair_pressure_at_sea_level_P1D_jul-des_2024.csv\")\n",
    "df_nedbør = pd.read_csv(\"frost_sumprecipitation_amount_P1D_jul-des_2024.csv\")\n",
    "\n",
    "# Slå sammen alt på dato – behold ALLE rader fra df_temp (enkeltmålinger)\n",
    "samlet = df_temp \\\n",
    "    .merge(df_gj, on=\"Dato\", how=\"left\") \\\n",
    "    .merge(df_trykk, on=\"Dato\", how=\"left\") \\\n",
    "    .merge(df_nedbør, on=\"Dato\", how=\"left\")\n",
    "\n",
    "samlet.rename(columns={\n",
    "    \"Temperatur (°C)_x\": \"Temperatur (°C)\",\n",
    "    \"Temperatur (°C)_y\": \"Temperatur (°C) daglig snitt\"\n",
    "}, inplace=True)\n",
    "\n",
    "# Lagre til fil\n",
    "samlet.to_csv(\"Sammenslåing_data.csv\", index=False)\n",
    "\n",
    "print(samlet.head())\n"
   ]
  }
 ],
 "metadata": {
  "kernelspec": {
   "display_name": "Python 3",
   "language": "python",
   "name": "python3"
  },
  "language_info": {
   "codemirror_mode": {
    "name": "ipython",
    "version": 3
   },
   "file_extension": ".py",
   "mimetype": "text/x-python",
   "name": "python",
   "nbconvert_exporter": "python",
   "pygments_lexer": "ipython3",
   "version": "3.12.9"
  }
 },
 "nbformat": 4,
 "nbformat_minor": 2
}
