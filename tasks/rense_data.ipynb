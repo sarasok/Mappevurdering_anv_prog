{
 "cells": [
  {
   "cell_type": "markdown",
   "metadata": {},
   "source": [
    "Kode for å lokalisere \"Nan\" verdier:"
   ]
  },
  {
   "cell_type": "code",
   "execution_count": 1,
   "metadata": {},
   "outputs": [
    {
     "data": {
      "text/html": [
       "<div>\n",
       "<style scoped>\n",
       "    .dataframe tbody tr th:only-of-type {\n",
       "        vertical-align: middle;\n",
       "    }\n",
       "\n",
       "    .dataframe tbody tr th {\n",
       "        vertical-align: top;\n",
       "    }\n",
       "\n",
       "    .dataframe thead th {\n",
       "        text-align: right;\n",
       "    }\n",
       "</style>\n",
       "<table border=\"1\" class=\"dataframe\">\n",
       "  <thead>\n",
       "    <tr style=\"text-align: right;\">\n",
       "      <th></th>\n",
       "      <th>Dato</th>\n",
       "      <th>Temperatur (°C)</th>\n",
       "      <th>Lufttrykk (hPa)</th>\n",
       "      <th>Nedbør (mm)</th>\n",
       "      <th>Relativ fuktighet (%)</th>\n",
       "      <th>Skydekke (oktas)</th>\n",
       "    </tr>\n",
       "  </thead>\n",
       "  <tbody>\n",
       "  </tbody>\n",
       "</table>\n",
       "</div>"
      ],
      "text/plain": [
       "Empty DataFrame\n",
       "Columns: [Dato, Temperatur (°C), Lufttrykk (hPa), Nedbør (mm), Relativ fuktighet (%), Skydekke (oktas)]\n",
       "Index: []"
      ]
     },
     "execution_count": 1,
     "metadata": {},
     "output_type": "execute_result"
    }
   ],
   "source": [
    "import pandas as pd\n",
    "\n",
    "df_sammenslaaing = pd.read_csv(\"../data/R_Sammenslaaing_gjsnitt.csv\")\n",
    "\n",
    "df_sammenslaaing.loc[df_sammenslaaing.isnull().any(axis=1)]\n"
   ]
  },
  {
   "cell_type": "markdown",
   "metadata": {},
   "source": [
    "Kode for å rette opp i eventuelle negative nedbør og/eller lufttrykk-verdier:"
   ]
  },
  {
   "cell_type": "code",
   "execution_count": 8,
   "metadata": {},
   "outputs": [
    {
     "ename": "NameError",
     "evalue": "name 'R_Sammenslaaing_uten_feil' is not defined",
     "output_type": "error",
     "traceback": [
      "\u001b[1;31m---------------------------------------------------------------------------\u001b[0m",
      "\u001b[1;31mNameError\u001b[0m                                 Traceback (most recent call last)",
      "\u001b[1;32m<ipython-input-8-1d4000421be0>\u001b[0m in \u001b[0;36m<module>\u001b[1;34m\u001b[0m\n\u001b[1;32m----> 1\u001b[1;33m \u001b[0mR_Sammenslaaing_UtenFeil\u001b[0m\u001b[1;33m[\u001b[0m\u001b[1;34m'Nedbør (mm)'\u001b[0m\u001b[1;33m]\u001b[0m \u001b[1;33m=\u001b[0m \u001b[1;33m[\u001b[0m\u001b[0mabs\u001b[0m\u001b[1;33m(\u001b[0m\u001b[0mx\u001b[0m\u001b[1;33m)\u001b[0m \u001b[1;32mfor\u001b[0m \u001b[0mx\u001b[0m \u001b[1;32min\u001b[0m \u001b[0mR_Sammenslaaing_uten_feil\u001b[0m\u001b[1;33m[\u001b[0m\u001b[1;34m'Nedbør (mm)'\u001b[0m\u001b[1;33m]\u001b[0m\u001b[1;33m]\u001b[0m\u001b[1;33m\u001b[0m\u001b[1;33m\u001b[0m\u001b[0m\n\u001b[0m\u001b[0;32m      2\u001b[0m \u001b[0mR_Sammenslaaing_UtenFeil\u001b[0m\u001b[1;33m.\u001b[0m\u001b[0mto_csv\u001b[0m\u001b[1;33m(\u001b[0m\u001b[1;34m\"../data/R_Sammenslaaing_uten_feil.csv\"\u001b[0m\u001b[1;33m,\u001b[0m \u001b[0mindex\u001b[0m\u001b[1;33m=\u001b[0m\u001b[1;32mFalse\u001b[0m\u001b[1;33m)\u001b[0m\u001b[1;33m\u001b[0m\u001b[1;33m\u001b[0m\u001b[0m\n\u001b[0;32m      3\u001b[0m \u001b[1;33m\u001b[0m\u001b[0m\n\u001b[0;32m      4\u001b[0m \u001b[0mR_Sammenslaaing_UtenFeil\u001b[0m\u001b[1;33m[\u001b[0m\u001b[1;34m'Lufttrykk (hPa)'\u001b[0m\u001b[1;33m]\u001b[0m \u001b[1;33m=\u001b[0m \u001b[1;33m[\u001b[0m\u001b[0mabs\u001b[0m\u001b[1;33m(\u001b[0m\u001b[0mx\u001b[0m\u001b[1;33m)\u001b[0m \u001b[1;32mfor\u001b[0m \u001b[0mx\u001b[0m \u001b[1;32min\u001b[0m \u001b[0mR_Sammenslaaing_uten_feil\u001b[0m\u001b[1;33m[\u001b[0m\u001b[1;34m'Lufttrykk (hPa)'\u001b[0m\u001b[1;33m]\u001b[0m\u001b[1;33m]\u001b[0m\u001b[1;33m\u001b[0m\u001b[1;33m\u001b[0m\u001b[0m\n\u001b[0;32m      5\u001b[0m \u001b[0mR_Sammenslaaing_UtenFeil\u001b[0m\u001b[1;33m.\u001b[0m\u001b[0mto_csv\u001b[0m\u001b[1;33m(\u001b[0m\u001b[1;34m\"../data/R_Sammenslaaing_uten_feil.csv\"\u001b[0m \u001b[1;33m,\u001b[0m \u001b[0mindex\u001b[0m\u001b[1;33m=\u001b[0m\u001b[1;32mFalse\u001b[0m\u001b[1;33m)\u001b[0m\u001b[1;33m\u001b[0m\u001b[1;33m\u001b[0m\u001b[0m\n",
      "\u001b[1;31mNameError\u001b[0m: name 'R_Sammenslaaing_uten_feil' is not defined"
     ]
    }
   ],
   "source": [
    "R_Sammenslaaing_UtenFeil['Nedbør (mm)'] = [abs(x) for x in R_Sammenslaaing_uten_feil['Nedbør (mm)']]\n",
    "R_Sammenslaaing_UtenFeil.to_csv(\"../data/R_Sammenslaaing_uten_feil.csv\", index=False)\n",
    "\n",
    "R_Sammenslaaing_UtenFeil['Lufttrykk (hPa)'] = [abs(x) for x in R_Sammenslaaing_uten_feil['Lufttrykk (hPa)']]\n",
    "R_Sammenslaaing_UtenFeil.to_csv(\"../data/R_Sammenslaaing_uten_feil.csv\" , index=False)"
   ]
  },
  {
   "cell_type": "markdown",
   "metadata": {},
   "source": [
    "Kode for å rette opp i ussansynlige temperaturverdier, samt itterere for å sjekke om en temperatur ikke gir verdier(NaN). Bytter ut disse mistenkelige verdiene med ett gjennomsnitt fra dagen før opg dagen etter."
   ]
  },
  {
   "cell_type": "code",
   "execution_count": null,
   "metadata": {},
   "outputs": [],
   "source": [
    "import pandas as pd\n",
    "\n",
    "# Les inn CSV-filen\n",
    "df = pd.read_csv(\"../data/R_Sammenslaaing_gjsnitt.csv\")\n",
    "\n",
    "# Gå gjennom temperaturkolonnen med indekser\n",
    "for i in range(1, len(df) - 1):  \n",
    "    temp = df.loc[i, \"Temperatur (°C)\"]\n",
    "\n",
    "    # Hvis verdien er mistenkelig eller tom\n",
    "    if pd.isna(temp) or temp <= -50 or temp >= 50:\n",
    "\n",
    "        # Gjennomsnitt av dagen før og dagen etter\n",
    "        temp_forrige = df.loc[i - 1, \"Temperatur (°C)\"]\n",
    "        temp_etter = df.loc[i + 1, \"Temperatur (°C)\"]\n",
    "        gjennomsnitt = (temp_forrige + temp_etter) / 2\n",
    "\n",
    "        # Erstatt verdien\n",
    "        df.loc[i, \"Temperatur (°C)\"] = gjennomsnitt\n",
    "\n",
    "# Skriv til filen uten feil\n",
    "df.to_csv(\"../data/R_Sammenslaaing_uten_feil.csv\", index=False)"
   ]
  },
  {
   "cell_type": "markdown",
   "metadata": {},
   "source": [
    "Kode for å teste om lufttrykk-verdien er tom:"
   ]
  },
  {
   "cell_type": "code",
   "execution_count": null,
   "metadata": {},
   "outputs": [],
   "source": [
    "import pandas as pd\n",
    "\n",
    "# Les inn CSV-filen\n",
    "df = pd.read_csv(\"../data/R_Sammenslaaing_gjsnitt.csv\")\n",
    "\n",
    "# Gå gjennom temperaturkolonnen med indekser\n",
    "for i in range(1, len(df) - 1):  \n",
    "    trykk = df.loc[i, \"Lufttrykk (hPa)\"]\n",
    "\n",
    "    # Hvis verdien er mistenkelig eller tom\n",
    "    if pd.isna(trykk):\n",
    "\n",
    "        # Gjennomsnitt av dagen før og dagen etter\n",
    "        trykk_forrige = df.loc[i - 1, \"Lufttrykk (hPa)\"]\n",
    "        trykk_etter = df.loc[i + 1, \"Lufttrykk (hPa)\"]\n",
    "        gjennomsnitt = (trykk_forrige + trykk_etter) / 2\n",
    "\n",
    "        # Erstatt verdien\n",
    "        df.loc[i, \"Lufttrykk (hPa)\"] = gjennomsnitt\n",
    "\n",
    "# Skriv til filen uten feil\n",
    "df.to_csv(\"../data/R_Sammenslaaing_uten_feil.csv\", index=False)"
   ]
  }
 ],
 "metadata": {
  "kernelspec": {
   "display_name": "base",
   "language": "python",
   "name": "python3"
  },
  "language_info": {
   "codemirror_mode": {
    "name": "ipython",
    "version": 3
   },
   "file_extension": ".py",
   "mimetype": "text/x-python",
   "name": "python",
   "nbconvert_exporter": "python",
   "pygments_lexer": "ipython3",
   "version": "3.8.8"
  }
 },
 "nbformat": 4,
 "nbformat_minor": 2
}
