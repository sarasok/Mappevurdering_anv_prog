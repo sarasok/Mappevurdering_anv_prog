{
 "cells": [
  {
   "cell_type": "markdown",
   "metadata": {},
   "source": [
    "En graf som sammenligner temperatur og lufttrykk over tid:"
   ]
  },
  {
   "cell_type": "code",
   "execution_count": 4,
   "metadata": {},
   "outputs": [
    {
     "ename": "ModuleNotFoundError",
     "evalue": "No module named 'matplotlib'",
     "output_type": "error",
     "traceback": [
      "\u001b[0;31m---------------------------------------------------------------------------\u001b[0m",
      "\u001b[0;31mModuleNotFoundError\u001b[0m                       Traceback (most recent call last)",
      "Cell \u001b[0;32mIn[4], line 2\u001b[0m\n\u001b[1;32m      1\u001b[0m \u001b[38;5;28;01mimport\u001b[39;00m\u001b[38;5;250m \u001b[39m\u001b[38;5;21;01mpandas\u001b[39;00m\u001b[38;5;250m \u001b[39m\u001b[38;5;28;01mas\u001b[39;00m\u001b[38;5;250m \u001b[39m\u001b[38;5;21;01mpd\u001b[39;00m\n\u001b[0;32m----> 2\u001b[0m \u001b[38;5;28;01mimport\u001b[39;00m\u001b[38;5;250m \u001b[39m\u001b[38;5;21;01mmatplotlib\u001b[39;00m\u001b[38;5;21;01m.\u001b[39;00m\u001b[38;5;21;01mpyplot\u001b[39;00m\u001b[38;5;250m \u001b[39m\u001b[38;5;28;01mas\u001b[39;00m\u001b[38;5;250m \u001b[39m\u001b[38;5;21;01mplt\u001b[39;00m\n\u001b[1;32m      3\u001b[0m \u001b[38;5;28;01mimport\u001b[39;00m\u001b[38;5;250m \u001b[39m\u001b[38;5;21;01mseaborn\u001b[39;00m\u001b[38;5;250m \u001b[39m\u001b[38;5;28;01mas\u001b[39;00m\u001b[38;5;250m \u001b[39m\u001b[38;5;21;01msns\u001b[39;00m\n\u001b[1;32m      5\u001b[0m \u001b[38;5;66;03m# Velger hvilken stil i Seaborn som skal brukes\u001b[39;00m\n",
      "\u001b[0;31mModuleNotFoundError\u001b[0m: No module named 'matplotlib'"
     ]
    }
   ],
   "source": [
    "import pandas as pd\n",
    "import matplotlib.pyplot as plt\n",
    "import seaborn as sns\n",
    "\n",
    "# Velger hvilken stil i Seaborn som skal brukes\n",
    "sns.set_theme(style=\"whitegrid\")\n",
    "\n",
    "# Leer inn CSV-filen som skal brukes til å hente data fra\n",
    "fil = \"../data/R_Sammenslaaing_gjsnitt.csv\"\n",
    "df = pd.read_csv(fil)\n",
    "\n",
    "# Konverterer 'Dato' til datetime-format\n",
    "df['Dato'] = pd.to_datetime(df['Dato'])\n",
    "\n",
    "# Plotter temperatur og lufttrykk over tid\n",
    "fig, ax1 = plt.subplots(figsize=(12, 6))\n",
    "\n",
    "# Plotter temperatur på venstre akse\n",
    "sns.lineplot(data=df, x='Dato', y='Temperatur (°C)', ax=ax1, label=\"Temperatur (°C)\", color='tab:red')\n",
    "ax1.set_ylabel(\"Temperatur (°C)\", color='tab:red')\n",
    "ax1.tick_params(axis='y', labelcolor='tab:red')\n",
    "\n",
    "# Lager en ny akse for lufttrykk\n",
    "ax2 = ax1.twinx()\n",
    "sns.lineplot(data=df, x='Dato', y='Lufttrykk (hPa)', ax=ax2, label=\"Lufttrykk (hPa)\", color='tab:blue')\n",
    "ax2.set_ylabel(\"Lufttrykk (hPa)\", color='tab:blue')\n",
    "ax2.tick_params(axis='y', labelcolor='tab:blue')\n",
    "\n",
    "# Formatér plottet\n",
    "plt.title(\"Temperatur og Lufttrykk over tid\")\n",
    "fig.autofmt_xdate()\n",
    "fig.tight_layout()\n",
    "\n",
    "plt.show()\n"
   ]
  },
  {
   "cell_type": "markdown",
   "metadata": {},
   "source": [
    "Sammenligner nedbør og skydekke over tid:"
   ]
  },
  {
   "cell_type": "code",
   "execution_count": 5,
   "metadata": {},
   "outputs": [
    {
     "ename": "NameError",
     "evalue": "name 'plt' is not defined",
     "output_type": "error",
     "traceback": [
      "\u001b[0;31m---------------------------------------------------------------------------\u001b[0m",
      "\u001b[0;31mNameError\u001b[0m                                 Traceback (most recent call last)",
      "Cell \u001b[0;32mIn[5], line 2\u001b[0m\n\u001b[1;32m      1\u001b[0m \u001b[38;5;66;03m# Plotter nedbør og skydekke\u001b[39;00m\n\u001b[0;32m----> 2\u001b[0m fig, ax1 \u001b[38;5;241m=\u001b[39m \u001b[43mplt\u001b[49m\u001b[38;5;241m.\u001b[39msubplots(figsize\u001b[38;5;241m=\u001b[39m(\u001b[38;5;241m12\u001b[39m, \u001b[38;5;241m6\u001b[39m))\n\u001b[1;32m      4\u001b[0m \u001b[38;5;66;03m# Viser nedbør som stolpediagram\u001b[39;00m\n\u001b[1;32m      5\u001b[0m sns\u001b[38;5;241m.\u001b[39mbarplot(data\u001b[38;5;241m=\u001b[39mdf, x\u001b[38;5;241m=\u001b[39m\u001b[38;5;124m'\u001b[39m\u001b[38;5;124mDato\u001b[39m\u001b[38;5;124m'\u001b[39m, y\u001b[38;5;241m=\u001b[39m\u001b[38;5;124m'\u001b[39m\u001b[38;5;124mNedbør (mm)\u001b[39m\u001b[38;5;124m'\u001b[39m, ax\u001b[38;5;241m=\u001b[39max1, color\u001b[38;5;241m=\u001b[39m\u001b[38;5;124m'\u001b[39m\u001b[38;5;124mskyblue\u001b[39m\u001b[38;5;124m'\u001b[39m, label\u001b[38;5;241m=\u001b[39m\u001b[38;5;124m\"\u001b[39m\u001b[38;5;124mNedbør (mm)\u001b[39m\u001b[38;5;124m\"\u001b[39m)\n",
      "\u001b[0;31mNameError\u001b[0m: name 'plt' is not defined"
     ]
    }
   ],
   "source": [
    "# Plotter nedbør og skydekke\n",
    "fig, ax1 = plt.subplots(figsize=(12, 6))\n",
    "\n",
    "# Viser nedbør som stolpediagram\n",
    "sns.barplot(data=df, x='Dato', y='Nedbør (mm)', ax=ax1, color='skyblue', label=\"Nedbør (mm)\")\n",
    "ax1.set_ylabel(\"Nedbør (mm)\", color='skyblue')\n",
    "ax1.tick_params(axis='y', labelcolor='skyblue')\n",
    "\n",
    "# Lager ny akse for skydekke\n",
    "ax2 = ax1.twinx()\n",
    "sns.lineplot(data=df, x='Dato', y='Skydekke (oktas)', ax=ax2, color='gray', label=\"Skydekke\", linewidth=2)\n",
    "ax2.set_ylabel(\"Skydekke (oktas)\", color='gray')\n",
    "ax2.tick_params(axis='y', labelcolor='gray')\n",
    "\n",
    "# Tittel og layout\n",
    "plt.title(\"Nedbør og Skydekke over tid\")\n",
    "fig.autofmt_xdate()\n",
    "fig.tight_layout()\n",
    "plt.show()\n"
   ]
  },
  {
   "cell_type": "markdown",
   "metadata": {},
   "source": [
    "Scatterplot med regresjon: Temperatur vs Relativ fuktighet"
   ]
  },
  {
   "cell_type": "code",
   "execution_count": null,
   "metadata": {},
   "outputs": [],
   "source": [
    "# Lager et scatterplot med regresjonslinje\n",
    "\n",
    "plt.figure(figsize=(8, 6))\n",
    "sns.regplot(data=df, x='Temperatur (°C)', y='Relativ fuktighet (%)', scatter_kws={'alpha':0.6}, line_kws={'color':'red'})\n",
    "plt.title(\"Sammenheng mellom temperatur og relativ fuktighet\")\n",
    "plt.xlabel(\"Temperatur (°C)\")\n",
    "plt.ylabel(\"Relativ fuktighet (%)\")\n",
    "plt.grid(True)\n",
    "plt.tight_layout()\n",
    "plt.show()\n"
   ]
  },
  {
   "cell_type": "markdown",
   "metadata": {},
   "source": [
    "Bruker Plotly til å lage en interaktiv linjegraf for temperatur og lufttrykk over tid"
   ]
  },
  {
   "cell_type": "code",
   "execution_count": 6,
   "metadata": {},
   "outputs": [
    {
     "ename": "ModuleNotFoundError",
     "evalue": "No module named 'plotly'",
     "output_type": "error",
     "traceback": [
      "\u001b[0;31m---------------------------------------------------------------------------\u001b[0m",
      "\u001b[0;31mModuleNotFoundError\u001b[0m                       Traceback (most recent call last)",
      "Cell \u001b[0;32mIn[6], line 1\u001b[0m\n\u001b[0;32m----> 1\u001b[0m \u001b[38;5;28;01mimport\u001b[39;00m\u001b[38;5;250m \u001b[39m\u001b[38;5;21;01mplotly\u001b[39;00m\u001b[38;5;21;01m.\u001b[39;00m\u001b[38;5;21;01mgraph_objects\u001b[39;00m\u001b[38;5;250m \u001b[39m\u001b[38;5;28;01mas\u001b[39;00m\u001b[38;5;250m \u001b[39m\u001b[38;5;21;01mgo\u001b[39;00m\n\u001b[1;32m      2\u001b[0m \u001b[38;5;28;01mimport\u001b[39;00m\u001b[38;5;250m \u001b[39m\u001b[38;5;21;01mpandas\u001b[39;00m\u001b[38;5;250m \u001b[39m\u001b[38;5;28;01mas\u001b[39;00m\u001b[38;5;250m \u001b[39m\u001b[38;5;21;01mpd\u001b[39;00m\n\u001b[1;32m      4\u001b[0m \u001b[38;5;66;03m# Les CSV og konverter dato\u001b[39;00m\n",
      "\u001b[0;31mModuleNotFoundError\u001b[0m: No module named 'plotly'"
     ]
    }
   ],
   "source": [
    "import plotly.graph_objects as go\n",
    "import pandas as pd\n",
    "\n",
    "# Les CSV og konverter dato\n",
    "df = pd.read_csv(\"..data/R_Sammenslaaing_gjsnitt.csv\")\n",
    "df['Dato'] = pd.to_datetime(df['Dato'])\n",
    "\n",
    "# Lag figur\n",
    "fig = go.Figure()\n",
    "\n",
    "# Temperatur\n",
    "fig.add_trace(go.Scatter(\n",
    "    x=df['Dato'], y=df['Temperatur (°C)'],\n",
    "    mode='lines+markers',\n",
    "    name='Temperatur (°C)',\n",
    "    line=dict(color='red')\n",
    "))\n",
    "\n",
    "# Lufttrykk\n",
    "fig.add_trace(go.Scatter(\n",
    "    x=df['Dato'], y=df['Lufttrykk (hPa)'],\n",
    "    mode='lines+markers',\n",
    "    name='Lufttrykk (hPa)',\n",
    "    line=dict(color='blue'),\n",
    "    yaxis=\"y2\"\n",
    "))\n",
    "\n",
    "# Legg til sekundær y-akse\n",
    "fig.update_layout(\n",
    "    title=\"Interaktiv graf: Temperatur og Lufttrykk over tid\",\n",
    "    xaxis=dict(title=\"Dato\"),\n",
    "    yaxis=dict(title=\"Temperatur (°C)\", titlefont=dict(color=\"red\"), tickfont=dict(color=\"red\")),\n",
    "    yaxis2=dict(\n",
    "        title=\"Lufttrykk (hPa)\",\n",
    "        titlefont=dict(color=\"blue\"),\n",
    "        tickfont=dict(color=\"blue\"),\n",
    "        overlaying=\"y\",\n",
    "        side=\"right\"\n",
    "    ),\n",
    "    legend=dict(x=0.01, y=0.99),\n",
    "    hovermode=\"x unified\"\n",
    ")\n",
    "\n",
    "fig.show()\n"
   ]
  },
  {
   "cell_type": "markdown",
   "metadata": {},
   "source": [
    "Interaktiv scatterplot med farge etter relativ fuktighet"
   ]
  },
  {
   "cell_type": "code",
   "execution_count": null,
   "metadata": {},
   "outputs": [],
   "source": [
    "import plotly.express as px\n",
    "\n",
    "# Interaktiv scatterplot\n",
    "fig = px.scatter(\n",
    "    df,\n",
    "    x='Temperatur (°C)',\n",
    "    y='Lufttrykk (hPa)',\n",
    "    color='Relativ fuktighet (%)',\n",
    "    size='Nedbør (mm)',  # Bonus! boblestørrelse = nedbør\n",
    "    hover_data=['Dato'],\n",
    "    color_continuous_scale='Viridis',\n",
    "    title='Temperatur vs Lufttrykk – farget etter relativ fuktighet'\n",
    ")\n",
    "\n",
    "fig.update_layout(\n",
    "    xaxis_title='Temperatur (°C)',\n",
    "    yaxis_title='Lufttrykk (hPa)',\n",
    "    coloraxis_colorbar=dict(title='Relativ fuktighet (%)')\n",
    ")\n",
    "\n",
    "fig.show()\n"
   ]
  },
  {
   "cell_type": "markdown",
   "metadata": {},
   "source": [
    "Dropdown-meny for å velge variabel over tid\n",
    "\n",
    "Dette lar deg velge f.eks. “Temperatur”, “Lufttrykk”, “Nedbør” eller “Skydekke” fra en meny og vise den som linjediagram:"
   ]
  },
  {
   "cell_type": "code",
   "execution_count": null,
   "metadata": {},
   "outputs": [],
   "source": [
    "# Lag linjer for alle variablene vi vil kunne velge mellom\n",
    "variabler = ['Temperatur (°C)', 'Lufttrykk (hPa)', 'Nedbør (mm)', 'Relativ fuktighet (%)', 'Skydekke (oktas)']\n",
    "\n",
    "# Lag grunnstruktur\n",
    "fig = go.Figure()\n",
    "\n",
    "# Legg til én linje per variabel, alle usynlige bortsett fra den første\n",
    "for i, var in enumerate(variabler):\n",
    "    fig.add_trace(go.Scatter(\n",
    "        x=df['Dato'], y=df[var],\n",
    "        mode='lines+markers',\n",
    "        name=var,\n",
    "        visible=(i == 0)\n",
    "    ))\n",
    "\n",
    "# Lag dropdown-knappene\n",
    "buttons = [\n",
    "    dict(label=var,\n",
    "         method='update',\n",
    "         args=[{'visible': [j == i for j in range(len(variabler))]},\n",
    "               {'title': f\"{var} over tid\"}])\n",
    "    for i, var in enumerate(variabler)\n",
    "]\n",
    "\n",
    "# Oppdater layout\n",
    "fig.update_layout(\n",
    "    updatemenus=[dict(\n",
    "        active=0,\n",
    "        buttons=buttons,\n",
    "        x=0.1,\n",
    "        xanchor=\"left\",\n",
    "        y=1.1,\n",
    "        yanchor=\"top\"\n",
    "    )],\n",
    "    title=f\"{variabler[0]} over tid\",\n",
    "    xaxis_title=\"Dato\",\n",
    "    yaxis_title=\"Verdi\",\n",
    "    hovermode=\"x unified\"\n",
    ")\n",
    "\n",
    "fig.show()\n"
   ]
  },
  {
   "cell_type": "markdown",
   "metadata": {},
   "source": [
    "Lager en correlation heatmap som viser hvordan variablene henger sammen:"
   ]
  },
  {
   "cell_type": "code",
   "execution_count": null,
   "metadata": {},
   "outputs": [],
   "source": [
    "import seaborn as sns\n",
    "import matplotlib.pyplot as plt\n",
    "\n",
    "# Plukk ut bare tallkolonnene\n",
    "numeriske_kolonner = df.select_dtypes(include='number')\n",
    "\n",
    "# Lag korrelasjonsmatrisen\n",
    "korrelasjon = numeriske_kolonner.corr()\n",
    "\n",
    "# Plot heatmap\n",
    "plt.figure(figsize=(10, 6))\n",
    "sns.heatmap(korrelasjon, annot=True, cmap=\"coolwarm\", fmt=\".2f\", linewidths=0.5)\n",
    "plt.title(\"Korrelasjonsheatmap for miljødata\")\n",
    "plt.tight_layout()\n",
    "plt.show()\n"
   ]
  }
 ],
 "metadata": {
  "kernelspec": {
   "display_name": "Python 3",
   "language": "python",
   "name": "python3"
  },
  "language_info": {
   "codemirror_mode": {
    "name": "ipython",
    "version": 3
   },
   "file_extension": ".py",
   "mimetype": "text/x-python",
   "name": "python",
   "nbconvert_exporter": "python",
   "pygments_lexer": "ipython3",
   "version": "3.13.1"
  }
 },
 "nbformat": 4,
 "nbformat_minor": 2
}
