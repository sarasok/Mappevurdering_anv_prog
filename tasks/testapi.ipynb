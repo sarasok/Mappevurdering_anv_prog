{
 "cells": [
  {
   "cell_type": "code",
   "execution_count": 10,
   "metadata": {},
   "outputs": [
    {
     "name": "stdout",
     "output_type": "stream",
     "text": [
      "Været i søgne: clear sky\n",
      "Temperatur: 2.92°C\n"
     ]
    }
   ],
   "source": [
    "import requests\n",
    "\n",
    "by = \"søgne\"\n",
    "api_key = \"4df1bbca7b65e146aa75166acfbb019d\"\n",
    "url = f\"https://api.openweathermap.org/data/2.5/weather?q={by}&appid={api_key}&units=metric\"\n",
    "\n",
    "response = requests.get(url)\n",
    "data = response.json()\n",
    "\n",
    "if response.status_code == 200:\n",
    "    print(f\"Været i {by}: {data['weather'][0]['description']}\")\n",
    "    print(f\"Temperatur: {data['main']['temp']}°C\")\n",
    "else:\n",
    "    print(\"Noe gikk galt:\", data.get(\"message\", \"Ukjent feil\"))"
   ]
  }
 ],
 "metadata": {
  "kernelspec": {
   "display_name": "Python 3",
   "language": "python",
   "name": "python3"
  },
  "language_info": {
   "codemirror_mode": {
    "name": "ipython",
    "version": 3
   },
   "file_extension": ".py",
   "mimetype": "text/x-python",
   "name": "python",
   "nbconvert_exporter": "python",
   "pygments_lexer": "ipython3",
   "version": "3.13.1"
  }
 },
 "nbformat": 4,
 "nbformat_minor": 2
}
