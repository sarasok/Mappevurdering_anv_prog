{
 "cells": [
  {
   "cell_type": "markdown",
   "metadata": {},
   "source": [
    "Samler data for temperatur, lufttrykk og nedbør i en csv fil:"
   ]
  },
  {
   "cell_type": "code",
   "execution_count": 5,
   "metadata": {},
   "outputs": [
    {
     "name": "stdout",
     "output_type": "stream",
     "text": [
      "         Dato  Temperatur (°C)  Lufttrykk (hPa)  Nedbør (mm)  \\\n",
      "0  2023-01-01              1.1           1005.7          0.0   \n",
      "1  2023-01-02             -2.7           1010.8          0.6   \n",
      "2  2023-01-03             -5.8           1019.6          0.0   \n",
      "3  2023-01-04             -7.9           1008.7          0.9   \n",
      "4  2023-01-05             -3.9           1015.3         19.8   \n",
      "\n",
      "   Relativ fuktighet (%)  Skydekke (oktas)  \n",
      "0                     69               3.0  \n",
      "1                     83               7.0  \n",
      "2                     85               1.0  \n",
      "3                     87               8.0  \n",
      "4                     81               8.0  \n"
     ]
    }
   ],
   "source": [
    "import pandas as pd\n",
    "\n",
    "# Leser inn de 3 filene for vær verdier\n",
    "df_temp = pd.read_csv(\"../data/R_Temperatur (°C).csv\")\n",
    "df_trykk = pd.read_csv(\"../data/R_Lufttrykk (hPa).csv\")\n",
    "df_nedbør = pd.read_csv(\"../data/R_Nedbør (mm).csv\")\n",
    "df_luftfuktighet = pd.read_csv(\"../data/R_Relativ fuktighet (%).csv\")\n",
    "df_skydekke = pd.read_csv(\"../data/R_Skydekke (oktas).csv\")\n",
    "\n",
    "\n",
    "# Slår sammen filene til en fil, basert på dato\n",
    "samlet = df_temp \\\n",
    "    .merge(df_trykk, on=\"Dato\", how=\"left\") \\\n",
    "    .merge(df_nedbør, on=\"Dato\", how=\"left\") \\\n",
    "    .merge(df_luftfuktighet, on=\"Dato\", how=\"left\") \\\n",
    "    .merge(df_skydekke, on=\"Dato\", how=\"left\" )\n",
    "\n",
    "#samlet.rename(columns={\n",
    " #   \"Temperatur (°C)\": \"Temperatur (°C) daglig snitt\"\n",
    "#}, inplace=True)\n",
    "\n",
    "\n",
    "# Oppretter ny fil for samlet verdier\n",
    "samlet.to_csv(\"../data/R_Sammenslaaing_gjsnitt.csv\", index=False)\n",
    "\n",
    "print(samlet.head())\n"
   ]
  },
  {
   "cell_type": "markdown",
   "metadata": {},
   "source": [
    "Identifisere og håndtere manglende verdier i datasettet:"
   ]
  },
  {
   "cell_type": "code",
   "execution_count": 2,
   "metadata": {},
   "outputs": [
    {
     "name": "stdout",
     "output_type": "stream",
     "text": [
      "<class 'pandas.core.frame.DataFrame'>\n",
      "Int64Index: 730 entries, 0 to 729\n",
      "Data columns (total 6 columns):\n",
      " #   Column                 Non-Null Count  Dtype  \n",
      "---  ------                 --------------  -----  \n",
      " 0   Dato                   730 non-null    object \n",
      " 1   Temperatur (°C)        730 non-null    float64\n",
      " 2   Lufttrykk (hPa)        730 non-null    float64\n",
      " 3   Nedbør (mm)            730 non-null    float64\n",
      " 4   Relativ fuktighet (%)  730 non-null    int64  \n",
      " 5   Skydekke (oktas)       730 non-null    float64\n",
      "dtypes: float64(4), int64(1), object(1)\n",
      "memory usage: 39.9+ KB\n"
     ]
    }
   ],
   "source": [
    "samlet.info()\n"
   ]
  },
  {
   "cell_type": "code",
   "execution_count": 3,
   "metadata": {},
   "outputs": [
    {
     "name": "stdout",
     "output_type": "stream",
     "text": [
      "Dato                     0\n",
      "Temperatur (°C)          0\n",
      "Lufttrykk (hPa)          0\n",
      "Nedbør (mm)              0\n",
      "Relativ fuktighet (%)    0\n",
      "Skydekke (oktas)         0\n",
      "dtype: int64\n"
     ]
    }
   ],
   "source": [
    "print(samlet.isna().sum())"
   ]
  }
 ],
 "metadata": {
  "kernelspec": {
   "display_name": "Python 3",
   "language": "python",
   "name": "python3"
  },
  "language_info": {
   "codemirror_mode": {
    "name": "ipython",
    "version": 3
   },
   "file_extension": ".py",
   "mimetype": "text/x-python",
   "name": "python",
   "nbconvert_exporter": "python",
   "pygments_lexer": "ipython3",
   "version": "3.12.9"
  }
 },
 "nbformat": 4,
 "nbformat_minor": 2
}
