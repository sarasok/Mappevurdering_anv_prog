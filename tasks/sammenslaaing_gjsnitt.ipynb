{
 "cells": [
  {
   "cell_type": "markdown",
   "metadata": {},
   "source": [
    "Samler data for temperatur, lufttrykk og nedbør i en csv fil:"
   ]
  },
  {
   "cell_type": "code",
   "execution_count": 2,
   "metadata": {},
   "outputs": [
    {
     "name": "stdout",
     "output_type": "stream",
     "text": [
      "         Dato  Temperatur (°C)  Lufttrykk (hPa)  Nedbør (mm)\n",
      "0  2023-01-01              0.5           1004.1          4.5\n",
      "1  2023-01-02             -5.4           1011.0          0.0\n",
      "2  2023-01-03             -6.4           1017.9          0.1\n",
      "3  2023-01-04             -6.2           1011.4          0.0\n",
      "4  2023-01-05             -3.1           1012.7          0.0\n"
     ]
    }
   ],
   "source": [
    "import pandas as pd\n",
    "\n",
    "# Leser inn de 3 filene for vær verdier\n",
    "df_temp = pd.read_csv(\"../data/R_Temperatur (°C).csv\")\n",
    "df_trykk = pd.read_csv(\"../data/R_Lufttrykk (hPa).csv\")\n",
    "df_nedbør = pd.read_csv(\"../data/R_Nedbør (mm).csv\")\n",
    "\n",
    "# Slår sammen filene til en fil, basert på dato\n",
    "samlet = df_temp \\\n",
    "    .merge(df_trykk, on=\"Dato\", how=\"left\") \\\n",
    "    .merge(df_nedbør, on=\"Dato\", how=\"left\")\n",
    "\n",
    "\n",
    "# Oppretter ny fil for samlet verdier\n",
    "samlet.to_csv(\"R_Sammenslaaing_gjsnitt.csv\", index=False)\n",
    "\n",
    "print(samlet.head())\n"
   ]
  },
  {
   "cell_type": "markdown",
   "metadata": {},
   "source": [
    "Identifisere og håndtere manglende verdier i datasettet:"
   ]
  },
  {
   "cell_type": "code",
   "execution_count": 5,
   "metadata": {},
   "outputs": [
    {
     "name": "stdout",
     "output_type": "stream",
     "text": [
      "<class 'pandas.core.frame.DataFrame'>\n",
      "Int64Index: 183 entries, 0 to 182\n",
      "Data columns (total 4 columns):\n",
      " #   Column                        Non-Null Count  Dtype  \n",
      "---  ------                        --------------  -----  \n",
      " 0   Dato                          183 non-null    object \n",
      " 1   Temperatur (°C) daglig snitt  183 non-null    float64\n",
      " 2   Lufttrykk (hPa)               183 non-null    float64\n",
      " 3   Nedbør (mm)                   183 non-null    float64\n",
      "dtypes: float64(3), object(1)\n",
      "memory usage: 7.1+ KB\n"
     ]
    }
   ],
   "source": [
    "samlet.info()\n"
   ]
  },
  {
   "cell_type": "code",
   "execution_count": 6,
   "metadata": {},
   "outputs": [
    {
     "name": "stdout",
     "output_type": "stream",
     "text": [
      "Dato                            0\n",
      "Temperatur (°C) daglig snitt    0\n",
      "Lufttrykk (hPa)                 0\n",
      "Nedbør (mm)                     0\n",
      "dtype: int64\n"
     ]
    }
   ],
   "source": [
    "print(samlet.isna().sum())"
   ]
  },
  {
   "cell_type": "markdown",
   "metadata": {},
   "source": [
    "Kode for å lokalisere \"NaN\" verdier:"
   ]
  },
  {
   "cell_type": "code",
   "execution_count": 4,
   "metadata": {},
   "outputs": [
    {
     "data": {
      "text/html": [
       "<div>\n",
       "<style scoped>\n",
       "    .dataframe tbody tr th:only-of-type {\n",
       "        vertical-align: middle;\n",
       "    }\n",
       "\n",
       "    .dataframe tbody tr th {\n",
       "        vertical-align: top;\n",
       "    }\n",
       "\n",
       "    .dataframe thead th {\n",
       "        text-align: right;\n",
       "    }\n",
       "</style>\n",
       "<table border=\"1\" class=\"dataframe\">\n",
       "  <thead>\n",
       "    <tr style=\"text-align: right;\">\n",
       "      <th></th>\n",
       "      <th>Dato</th>\n",
       "      <th>Temperatur (°C)</th>\n",
       "      <th>Lufttrykk (hPa)</th>\n",
       "      <th>Nedbør (mm)</th>\n",
       "    </tr>\n",
       "  </thead>\n",
       "  <tbody>\n",
       "    <tr>\n",
       "      <th>5</th>\n",
       "      <td>2023-01-06</td>\n",
       "      <td>-3.0</td>\n",
       "      <td>NaN</td>\n",
       "      <td>0.0</td>\n",
       "    </tr>\n",
       "    <tr>\n",
       "      <th>33</th>\n",
       "      <td>2023-02-03</td>\n",
       "      <td>NaN</td>\n",
       "      <td>1016.8</td>\n",
       "      <td>5.7</td>\n",
       "    </tr>\n",
       "  </tbody>\n",
       "</table>\n",
       "</div>"
      ],
      "text/plain": [
       "          Dato  Temperatur (°C)  Lufttrykk (hPa)  Nedbør (mm)\n",
       "5   2023-01-06             -3.0              NaN          0.0\n",
       "33  2023-02-03              NaN           1016.8          5.7"
      ]
     },
     "execution_count": 4,
     "metadata": {},
     "output_type": "execute_result"
    }
   ],
   "source": [
    "import pandas as pd\n",
    "\n",
    "df_sammenslaaing = pd.read_csv(\"../data/R_Sammenslaaing_gjsnitt.csv\")\n",
    "\n",
    "df_sammenslaaing.loc[df_sammenslaaing.isnull().any(axis=1)]\n"
   ]
  },
  {
   "cell_type": "markdown",
   "metadata": {},
   "source": [
    "Lager ny csv for oppdaterte (riktige) verdier:"
   ]
  },
  {
   "cell_type": "code",
   "execution_count": 9,
   "metadata": {},
   "outputs": [],
   "source": [
    "df_R_Sammenslaaing_UtenFeil = df_sammenslaaing.copy()"
   ]
  },
  {
   "cell_type": "markdown",
   "metadata": {},
   "source": [
    "Kode for å rette opp i eventuelle negative nedbør og/eller lufttrykk-verdier:"
   ]
  },
  {
   "cell_type": "code",
   "execution_count": 12,
   "metadata": {},
   "outputs": [],
   "source": [
    "df_R_Sammenslaaing_UtenFeil['Nedbør (mm)'] = [abs(x) for x in df_R_Sammenslaaing_UtenFeil['Nedbør (mm)']]\n",
    "df_R_Sammenslaaing_UtenFeil.to_csv(\"../data/R_Sammenslaaing_uten_feil.csv\")\n",
    "\n",
    "df_R_Sammenslaaing_UtenFeil['Lufttrykk (hPa)'] = [abs(x) for x in df_R_Sammenslaaing_UtenFeil['Lufttrykk (hPa)']]\n",
    "df_R_Sammenslaaing_UtenFeil.to_csv(\"../data/R_Sammenslaaing_uten_feil.csv\")"
   ]
  },
  {
   "cell_type": "markdown",
   "metadata": {},
   "source": [
    "Gjør at datoene blir i datetime-format så ikke det er noen skrivefeil i datoene henta:"
   ]
  },
  {
   "cell_type": "code",
   "execution_count": 13,
   "metadata": {},
   "outputs": [
    {
     "name": "stdout",
     "output_type": "stream",
     "text": [
      "        Dato  Temperatur (°C)  Lufttrykk (hPa)  Nedbør (mm)\n",
      "0 2023-01-01              0.5           1004.1          4.5\n",
      "1 2023-01-02             -5.4           1011.0          0.0\n",
      "2 2023-01-03             -6.4           1017.9          0.1\n",
      "3 2023-01-04             -6.2           1011.4          0.0\n",
      "4 2023-01-05             -3.1           1012.7          0.0\n"
     ]
    }
   ],
   "source": [
    "# Gjør at 'Dato' er i datetime-format\n",
    "df_R_Sammenslaaing_UtenFeil['Dato'] = pd.to_datetime(df_R_Sammenslaaing_UtenFeil['Dato'])\n",
    "\n",
    "# Start fra første dato og generer resten\n",
    "start_dato = df_R_Sammenslaaing_UtenFeil.loc[0, 'Dato']\n",
    "riktige_datoer = [start_dato + pd.Timedelta(days=i) for i in range(len(df_R_Sammenslaaing_UtenFeil))]\n",
    "\n",
    "# Sett inn de riktige datoene\n",
    "df_R_Sammenslaaing_UtenFeil['Dato'] = riktige_datoer\n",
    "\n",
    "\n",
    "print(df_R_Sammenslaaing_UtenFeil.head())"
   ]
  },
  {
   "cell_type": "markdown",
   "metadata": {},
   "source": [
    "Kode for å rette opp i ussansynlige temperaturverdier, samt itterere for å sjekke om en temperatur ikke gir verdier(NaN). Bytter ut disse mistenkelige verdiene med ett gjennomsnitt fra dagen før opg dagen etter."
   ]
  },
  {
   "cell_type": "code",
   "execution_count": 15,
   "metadata": {},
   "outputs": [],
   "source": [
    "import pandas as pd\n",
    "\n",
    "# Les inn CSV-filen\n",
    "df = pd.read_csv(\"../data/R_Sammenslaaing_gjsnitt.csv\")\n",
    "\n",
    "# Gå gjennom temperaturkolonnen med indekser\n",
    "for i in range(1, len(df) - 1):  \n",
    "    temp = df.loc[i, \"Temperatur (°C)\"]\n",
    "\n",
    "    # Hvis verdien er mistenkelig eller tom\n",
    "    if pd.isna(temp) or temp <= -50 or temp >= 50:\n",
    "\n",
    "        # Gjennomsnitt av dagen før og dagen etter\n",
    "        temp_forrige = df.loc[i - 1, \"Temperatur (°C)\"]\n",
    "        temp_etter = df.loc[i + 1, \"Temperatur (°C)\"]\n",
    "        gjennomsnitt = (temp_forrige + temp_etter) / 2\n",
    "\n",
    "        # Erstatt verdien\n",
    "        df.loc[i, \"Temperatur (°C)\"] = gjennomsnitt\n",
    "\n",
    "# Skriv til filen uten feil\n",
    "df.to_csv(\"../data/R_Sammenslaaing_uten_feil.csv\", index=False)"
   ]
  },
  {
   "cell_type": "markdown",
   "metadata": {},
   "source": [
    "Kode for å teste om lufttrykk-verdien er tom:"
   ]
  },
  {
   "cell_type": "code",
   "execution_count": 17,
   "metadata": {},
   "outputs": [],
   "source": [
    "import pandas as pd\n",
    "\n",
    "# Les inn CSV-filen\n",
    "df = pd.read_csv(\"../data/R_Sammenslaaing_gjsnitt.csv\")\n",
    "\n",
    "# Gå gjennom temperaturkolonnen med indekser\n",
    "for i in range(1, len(df) - 1):  \n",
    "    trykk = df.loc[i, \"Lufttrykk (hPa)\"]\n",
    "\n",
    "    # Hvis verdien er mistenkelig eller tom\n",
    "    if pd.isna(trykk):\n",
    "\n",
    "        # Gjennomsnitt av dagen før og dagen etter\n",
    "        trykk_forrige = df.loc[i - 1, \"Lufttrykk (hPa)\"]\n",
    "        trykk_etter = df.loc[i + 1, \"Lufttrykk (hPa)\"]\n",
    "        gjennomsnitt = (trykk_forrige + trykk_etter) / 2\n",
    "\n",
    "        # Erstatt verdien\n",
    "        df.loc[i, \"Lufttrykk (hPa)\"] = gjennomsnitt\n",
    "\n",
    "# Skriv til filen uten feil\n",
    "df.to_csv(\"../data/R_Sammenslaaing_uten_feil.csv\", index=False)"
   ]
  }
 ],
 "metadata": {
  "kernelspec": {
   "display_name": "Python 3",
   "language": "python",
   "name": "python3"
  },
  "language_info": {
   "codemirror_mode": {
    "name": "ipython",
    "version": 3
   },
   "file_extension": ".py",
   "mimetype": "text/x-python",
   "name": "python",
   "nbconvert_exporter": "python",
   "pygments_lexer": "ipython3",
   "version": "3.12.9"
  }
 },
 "nbformat": 4,
 "nbformat_minor": 2
}
