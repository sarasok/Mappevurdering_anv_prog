{
 "cells": [
  {
   "cell_type": "code",
   "execution_count": 12,
   "id": "73e79d1f",
   "metadata": {},
   "outputs": [
    {
     "name": "stdout",
     "output_type": "stream",
     "text": [
      "       Temperatur (°C)  Lufttrykk (hPa)  Nedbør (mm)  Relativ fuktighet (%)  \\\n",
      "Måned                                                                         \n",
      "1                -0.96           941.36         2.82                  80.95   \n",
      "2                -1.59           974.41         2.32                  79.07   \n",
      "3                 3.90          1007.55         2.40                  75.73   \n",
      "4                 2.69          1015.07         2.43                  65.24   \n",
      "5                 8.83          1019.45         1.36                  57.03   \n",
      "6                19.27          1012.36         2.17                  59.84   \n",
      "7                14.05           973.72         4.64                  74.97   \n",
      "8                16.36           942.30         6.43                  78.13   \n",
      "9                10.14           944.63         3.53                  79.98   \n",
      "10                8.18           944.49         2.35                  80.73   \n",
      "11                1.35           940.86         1.52                  79.07   \n",
      "12                1.52          1009.80         1.92                  79.23   \n",
      "\n",
      "       Skydekke (oktas)  \n",
      "Måned                    \n",
      "1                  5.89  \n",
      "2                  5.91  \n",
      "3                  5.62  \n",
      "4                  5.49  \n",
      "5                  4.45  \n",
      "6                  4.19  \n",
      "7                  5.87  \n",
      "8                  5.77  \n",
      "9                  5.55  \n",
      "10                 5.88  \n",
      "11                 5.99  \n",
      "12                 5.70  \n"
     ]
    }
   ],
   "source": [
    "from opg4 import MiljoPerMnd\n",
    "\n",
    "\n",
    "analyse = MiljoPerMnd(\"../data/R_Sammenslaaing_gjsnitt.csv\")\n",
    "\n",
    "print(analyse.gjennomsnitt_per_mnd())\n",
    "\n"
   ]
  },
  {
   "cell_type": "code",
   "execution_count": 13,
   "id": "ebe0180c",
   "metadata": {},
   "outputs": [
    {
     "name": "stdout",
     "output_type": "stream",
     "text": [
      "       Temperatur (°C)  Lufttrykk (hPa)  Nedbør (mm)  Relativ fuktighet (%)  \\\n",
      "Måned                                                                         \n",
      "1                -1.70          1006.90         0.10                   87.5   \n",
      "2                 0.40          1009.20         0.25                   83.5   \n",
      "3                 2.10          1006.70         0.00                   77.0   \n",
      "4                 5.50          1012.45         0.15                   65.0   \n",
      "5                14.10          1019.80         0.00                   54.0   \n",
      "6                17.45          1012.10         0.00                   65.5   \n",
      "7                16.20          1006.35         1.75                   79.0   \n",
      "8                16.40          1009.10         1.40                   80.5   \n",
      "9                13.75          1016.60         0.30                   86.0   \n",
      "10                8.05          1011.40         0.00                   81.5   \n",
      "11                1.90          1008.05         0.00                   85.0   \n",
      "12                0.45          1012.10         0.10                   83.0   \n",
      "\n",
      "       Skydekke (oktas)  \n",
      "Måned                    \n",
      "1                  7.00  \n",
      "2                  7.00  \n",
      "3                  7.00  \n",
      "4                  6.00  \n",
      "5                  4.50  \n",
      "6                  4.15  \n",
      "7                  6.30  \n",
      "8                  6.30  \n",
      "9                  6.15  \n",
      "10                 6.30  \n",
      "11                 7.00  \n",
      "12                 6.70  \n"
     ]
    }
   ],
   "source": [
    "print(analyse.median_per_mnd())\n"
   ]
  },
  {
   "cell_type": "code",
   "execution_count": 14,
   "id": "ea2e0dc6",
   "metadata": {},
   "outputs": [
    {
     "name": "stdout",
     "output_type": "stream",
     "text": [
      "       Temperatur (°C)  Lufttrykk (hPa)  Nedbør (mm)  Relativ fuktighet (%)  \\\n",
      "Måned                                                                         \n",
      "1                14.67           364.15         4.25                  32.50   \n",
      "2                 9.50           270.15         4.20                  24.06   \n",
      "3                15.34            13.14         4.80                  16.48   \n",
      "4                23.23            10.66         5.49                  15.83   \n",
      "5                24.63             5.58         5.74                  13.42   \n",
      "6                11.85             7.58         4.66                  26.80   \n",
      "7                19.87           255.34         6.59                  21.07   \n",
      "8                17.92           362.49        11.74                  22.42   \n",
      "9                27.06           370.93         8.06                  25.54   \n",
      "10               19.43           360.50         5.19                  12.07   \n",
      "11               15.57           367.03         4.28                  24.54   \n",
      "12               19.15            14.47         4.87                  22.86   \n",
      "\n",
      "       Skydekke (oktas)  \n",
      "Måned                    \n",
      "1                  2.40  \n",
      "2                  2.27  \n",
      "3                  2.88  \n",
      "4                  2.41  \n",
      "5                  2.19  \n",
      "6                  2.49  \n",
      "7                  1.65  \n",
      "8                  2.28  \n",
      "9                  2.35  \n",
      "10                 1.94  \n",
      "11                 2.64  \n",
      "12                 2.45  \n"
     ]
    }
   ],
   "source": [
    "print(analyse.standardavvik_per_mnd())"
   ]
  }
 ],
 "metadata": {
  "kernelspec": {
   "display_name": "Python 3",
   "language": "python",
   "name": "python3"
  },
  "language_info": {
   "codemirror_mode": {
    "name": "ipython",
    "version": 3
   },
   "file_extension": ".py",
   "mimetype": "text/x-python",
   "name": "python",
   "nbconvert_exporter": "python",
   "pygments_lexer": "ipython3",
   "version": "3.12.10"
  }
 },
 "nbformat": 4,
 "nbformat_minor": 5
}
