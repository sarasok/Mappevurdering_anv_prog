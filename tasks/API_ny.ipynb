{
 "cells": [
  {
   "cell_type": "code",
   "execution_count": 2,
   "metadata": {},
   "outputs": [
    {
     "name": "stdout",
     "output_type": "stream",
     "text": [
      "Henter data...\n"
     ]
    },
    {
     "name": "stderr",
     "output_type": "stream",
     "text": [
      "C:\\Users\\leahs\\AppData\\Local\\Temp\\ipykernel_5812\\2719742325.py:61: FutureWarning: The behavior of DataFrame concatenation with empty or all-NA entries is deprecated. In a future version, this will no longer exclude empty or all-NA columns when determining the result dtypes. To retain the old behavior, exclude the relevant entries before the concat operation.\n",
      "  df = pd.concat([df, pd.DataFrame([{\"Dato\": dato, label: verdi}])], ignore_index=True)\n"
     ]
    },
    {
     "name": "stdout",
     "output_type": "stream",
     "text": [
      "Lagret til: data/Temperatur (°C).csv\n",
      "Lagret til: data/Lufttrykk (hPa).csv\n",
      "Lagret til: data/Nedbør (mm).csv\n"
     ]
    }
   ],
   "source": [
    "import requests\n",
    "import pandas as pd\n",
    "import os\n",
    "from datetime import datetime, timedelta\n",
    "\n",
    "os.makedirs(\"data\", exist_ok=True)\n",
    "\n",
    "API = \"2a430097-ac9b-44e4-995e-a02afb9795b2\"\n",
    "SOURCE = \"SN68860\"\n",
    "BASE_URL = \"https://frost.met.no/observations/v0.jsonld\"\n",
    "\n",
    "start_date = datetime(2023, 1, 1)\n",
    "end_date = datetime(2024, 12, 31)\n",
    "delta = timedelta(days=30)\n",
    "\n",
    "# Bruk ferdig aggregerte daglige verdier fra Frost\n",
    "elements = {\n",
    "    \"mean(air_temperature P1D)\": \"Temperatur (°C)\",  \n",
    "    \"mean(air_pressure_at_sea_level P1D)\": \"Lufttrykk (hPa)\",  \n",
    "    \"sum(precipitation_amount P1D)\": \"Nedbør (mm)\"\n",
    "}\n",
    "\n",
    "force_update = input(\"Vil du hente nye data fra Frost API? (ja/nei): \").strip().lower()\n",
    "\n",
    "def fetch_data():\n",
    "    dataframes = {label: pd.DataFrame(columns=[\"Dato\", label]) for label in elements.values()}\n",
    "\n",
    "    if all(os.path.exists(os.path.join(\"data\", f\"{label}.csv\")) for label in elements.values()) and force_update != \"ja\":\n",
    "        print(\"Bruker eksisterende filer.\")\n",
    "        return\n",
    "\n",
    "    print(\"Henter data...\")\n",
    "\n",
    "    current_date = start_date\n",
    "    while current_date <= end_date:\n",
    "        batch_start = current_date.strftime(\"%Y-%m-%d\")\n",
    "        batch_end = min(current_date + delta, end_date).strftime(\"%Y-%m-%d\")\n",
    "        batch_reference_time = f\"{batch_start}/{batch_end}\"\n",
    "\n",
    "        params = {\n",
    "            \"sources\": SOURCE,\n",
    "            \"elements\": \",\".join(elements.keys()),\n",
    "            \"referencetime\": batch_reference_time\n",
    "        }\n",
    "\n",
    "        response = requests.get(BASE_URL, params=params, auth=(API, \"\"))\n",
    "        \n",
    "        if response.status_code == 200:\n",
    "            raw_data = response.json().get(\"data\", [])\n",
    "            \n",
    "            for entry in raw_data:\n",
    "                dato = entry[\"referenceTime\"].split(\"T\")[0]\n",
    "                if dato > end_date.strftime(\"%Y-%m-%d\"):\n",
    "                    continue\n",
    "                for obs in entry[\"observations\"]:\n",
    "                    element_id = obs[\"elementId\"]\n",
    "                    verdi = obs[\"value\"]\n",
    "                    label = elements[element_id]\n",
    "                    df = dataframes[label]\n",
    "\n",
    "                    df = pd.concat([df, pd.DataFrame([{\"Dato\": dato, label: verdi}])], ignore_index=True)\n",
    "                    dataframes[label] = df\n",
    "\n",
    "        else:\n",
    "            print(f\"Feil ved henting av data ({batch_reference_time}): {response.status_code}\")\n",
    "            print(response.text)\n",
    "\n",
    "        current_date += delta\n",
    "\n",
    "    for label, df in dataframes.items():\n",
    "        df.drop_duplicates(subset=\"Dato\", keep=\"last\", inplace=True)\n",
    "        df.sort_values(\"Dato\", inplace=True)\n",
    "        df.to_csv(os.path.join(\"data\", f\"{label}.csv\"), index=False, encoding=\"utf-8\")\n",
    "        print(f\"Lagret til: data/{label}.csv\")\n",
    "\n",
    "fetch_data()\n"
   ]
  },
  {
   "cell_type": "code",
   "execution_count": null,
   "metadata": {},
   "outputs": [
    {
     "name": "stdout",
     "output_type": "stream",
     "text": [
      "Daglig gjennomsnitt lagret i frost_air_temperature_daglig_gjennomsnitt.csv\n"
     ]
    }
   ],
   "source": [
    "# TEMPFIL 15MIN -> GJENOMSNITT DAG\n",
    "#KAN EGT SLETTE!!!\n",
    "\n",
    "import pandas as pd\n",
    "# Leser inn filen med temperaturmålinger\n",
    "df = pd.read_csv(\"../data/frost_data.csv\")\n",
    "\n",
    "# Beregn gjennomsnittstemperatur per dag\n",
    "daglig_gjennomsnitt = df.groupby(\"Dato\")[\"Temperatur (°C)\"].mean().reset_index()\n",
    "\n",
    "# Lagre til ny CSV-fil\n",
    "daglig_gjennomsnitt.to_csv(\"../data/frost_air_temperature_daglig_gjennomsnitt.csv\", index=False)\n",
    "\n",
    "\n",
    "print(\"Daglig gjennomsnitt lagret i frost_air_temperature_daglig_gjennomsnitt.csv\")\n"
   ]
  }
 ],
 "metadata": {
  "kernelspec": {
   "display_name": "Python 3",
   "language": "python",
   "name": "python3"
  },
  "language_info": {
   "codemirror_mode": {
    "name": "ipython",
    "version": 3
   },
   "file_extension": ".py",
   "mimetype": "text/x-python",
   "name": "python",
   "nbconvert_exporter": "python",
   "pygments_lexer": "ipython3",
   "version": "3.13.1"
  }
 },
 "nbformat": 4,
 "nbformat_minor": 2
}
