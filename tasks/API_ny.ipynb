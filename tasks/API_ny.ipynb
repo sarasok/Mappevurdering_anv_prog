{
 "cells": [
  {
   "cell_type": "code",
   "execution_count": null,
   "metadata": {},
   "outputs": [
    {
     "name": "stdout",
     "output_type": "stream",
     "text": [
      "Henter data for Temperatur (°C)...\n",
      "Lagret til: frost_air_temperature_jul-des_2024.csv\n",
      "Henter data for Lufttrykk (hPa)...\n",
      "Lagret til: frost_meanair_pressure_at_sea_level_P1D_jul-des_2024.csv\n",
      "Henter data for Nedbør (mm)...\n",
      "Lagret til: frost_sumprecipitation_amount_P1D_jul-des_2024.csv\n"
     ]
    }
   ],
   "source": [
    "import requests\n",
    "import pandas as pd\n",
    "import os\n",
    "\n",
    "# Lagrer API-nøkkel\n",
    "API = \"2a430097-ac9b-44e4-995e-a02afb9795b2\"\n",
    "SOURCE = \"SN68860\"\n",
    "\n",
    "# Setter et intervall for start og slutt dato\n",
    "start_dato = \"2024-07-01\"\n",
    "slutt_dato = \"2024-12-31\"\n",
    "reference_time = f\"{start_dato}/{slutt_dato}\"\n",
    "\n",
    "# API-url fra Frost\n",
    "BASE_URL = \"https://frost.met.no/observations/v0.jsonld\"\n",
    "\n",
    "# Navngir kolonner for verdier som skal hentes fra APIen\n",
    "elements = {\n",
    "    \"air_temperature\": \"Temperatur (°C)\",\n",
    "    \"mean(air_pressure_at_sea_level P1D)\": \"Lufttrykk (hPa)\",\n",
    "    \"sum(precipitation_amount P1D)\": \"Nedbør (mm)\"\n",
    "}\n",
    "\n",
    "# Input for å bestemme om man skal hente ny data eller ikke\n",
    "force_update = input(\"Vil du hente nye data fra Frost API? (ja/nei): \").strip().lower()\n",
    "\n",
    "# Funksjon for å hente og lagre data\n",
    "def fetch_data(element_id, label):\n",
    "    filename = f\"frost_{element_id.replace('(', '').replace(')', '').replace(' ', '_')}_jul-des_2024.csv\"\n",
    "    \n",
    "    if os.path.exists(filename) and force_update != \"ja\":\n",
    "        print(\"Bruker eksisterende fil:\", filename)\n",
    "        return\n",
    "\n",
    "    print(\"Henter data for\", label + \"...\")\n",
    "    \n",
    "    params = {\n",
    "        \"sources\": SOURCE,\n",
    "        \"elements\": element_id,\n",
    "        \"referencetime\": reference_time\n",
    "    }\n",
    "\n",
    "    response = requests.get(BASE_URL, params=params, auth=(API, \"\"))\n",
    "    \n",
    "    if response.status_code == 200:\n",
    "        raw_data = response.json()[\"data\"]\n",
    "        rows = []\n",
    "        for entry in raw_data:\n",
    "            date = entry[\"referenceTime\"].split(\"T\")[0]\n",
    "            value = entry[\"observations\"][0][\"value\"]\n",
    "            rows.append((date, value))\n",
    "        \n",
    "        df = pd.DataFrame(rows, columns=[\"Dato\", label])\n",
    "        df.to_csv(filename, index=False, encoding=\"utf-8\")\n",
    "        print(\"Lagret til:\", filename)\n",
    "    \n",
    "    else:\n",
    "        print(f\"Feil ved henting av {element_id}: {response.status_code}\")\n",
    "        print(response.text)\n",
    "\n",
    "# Henter og lagre data for hvert element\n",
    "for element_id, label in elements.items():\n",
    "    fetch_data(element_id, label)\n",
    "    "
   ]
  },
  {
   "cell_type": "code",
   "execution_count": 3,
   "metadata": {},
   "outputs": [
    {
     "name": "stdout",
     "output_type": "stream",
     "text": [
      "Daglig gjennomsnitt lagret i frost_air_temperature_daglig_gjennomsnitt.csv\n"
     ]
    }
   ],
   "source": [
    "# TEMPFIL 15MIN -> GJENOMSNITT DAG\n",
    "\n",
    "import pandas as pd\n",
    "# Leser inn filen med temperaturmålinger\n",
    "df = pd.read_csv(\"frost_air_temperature_jul-des_2024.csv\")\n",
    "\n",
    "# Beregn gjennomsnittstemperatur per dag\n",
    "daglig_gjennomsnitt = df.groupby(\"Dato\")[\"Temperatur (°C)\"].mean().reset_index()\n",
    "\n",
    "# Lagre til ny CSV-fil\n",
    "daglig_gjennomsnitt.to_csv(\"frost_air_temperature_daglig_gjennomsnitt.csv\", index=False)\n",
    "\n",
    "print(\"Daglig gjennomsnitt lagret i frost_air_temperature_daglig_gjennomsnitt.csv\")\n"
   ]
  }
 ],
 "metadata": {
  "kernelspec": {
   "display_name": "base",
   "language": "python",
   "name": "python3"
  },
  "language_info": {
   "codemirror_mode": {
    "name": "ipython",
    "version": 3
   },
   "file_extension": ".py",
   "mimetype": "text/x-python",
   "name": "python",
   "nbconvert_exporter": "python",
   "pygments_lexer": "ipython3",
   "version": "3.8.8"
  }
 },
 "nbformat": 4,
 "nbformat_minor": 2
}
